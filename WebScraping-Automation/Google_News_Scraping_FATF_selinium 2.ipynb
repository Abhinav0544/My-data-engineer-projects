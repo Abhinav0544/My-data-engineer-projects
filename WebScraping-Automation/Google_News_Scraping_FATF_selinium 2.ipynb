{
 "cells": [
  {
   "cell_type": "code",
   "execution_count": 12,
   "id": "48707520",
   "metadata": {
    "scrolled": true
   },
   "outputs": [],
   "source": [
    "from pygooglenews import GoogleNews\n",
    "import pandas as pd\n",
    "pd.set_option('display.max_colwidth', None)\n",
    "from newspaper import Article\n",
    "import nltk\n",
    "import time\n",
    "from tqdm import tqdm\n",
    "from urllib.parse import urlparse, parse_qs\n",
    "import sqlalchemy\n",
    "from datetime import datetime,date\n",
    "from sqlalchemy import create_engine\n",
    "from fuzzywuzzy import fuzz,process\n",
    "from random import randint\n",
    "from selenium import webdriver\n",
    "from selenium.webdriver.chrome.service import Service\n",
    "from selenium.webdriver.chrome.options import Options\n",
    "import time\n",
    "import json\n",
    "from bs4 import BeautifulSoup\n",
    "from time import sleep\n",
    "import spacy\n",
    "import re\n",
    "from string import punctuation\n",
    "from collections import Counter\n",
    "from string import punctuation\n",
    "import warnings\n",
    "import tqdm\n",
    "warnings.filterwarnings(\"ignore\")\n",
    "import datetime\n",
    "from dateutil import parser\n",
    "from datetime import datetime as dt\n",
    "from datetime import timedelta as td\n",
    "import sqlite3\n",
    "from random import randint\n",
    "from time import sleep"
   ]
  },
  {
   "cell_type": "code",
   "execution_count": 2,
   "id": "ce536f6c-7a09-4e3b-8be1-ed0e7d825e9a",
   "metadata": {},
   "outputs": [
    {
     "ename": "SessionNotCreatedException",
     "evalue": "Message: session not created: This version of ChromeDriver only supports Chrome version 114\nCurrent browser version is 129.0.6668.90 with binary path C:\\Program Files\\Google\\Chrome\\Application\\chrome.exe\nStacktrace:\nBacktrace:\n\tGetHandleVerifier [0x006BA813+48355]\n\t(No symbol) [0x0064C4B1]\n\t(No symbol) [0x00555358]\n\t(No symbol) [0x005761AC]\n\t(No symbol) [0x00571EF3]\n\t(No symbol) [0x00570579]\n\t(No symbol) [0x005A0C55]\n\t(No symbol) [0x005A093C]\n\t(No symbol) [0x0059A536]\n\t(No symbol) [0x005782DC]\n\t(No symbol) [0x005793DD]\n\tGetHandleVerifier [0x0091AABD+2539405]\n\tGetHandleVerifier [0x0095A78F+2800735]\n\tGetHandleVerifier [0x0095456C+2775612]\n\tGetHandleVerifier [0x007451E0+616112]\n\t(No symbol) [0x00655F8C]\n\t(No symbol) [0x00652328]\n\t(No symbol) [0x0065240B]\n\t(No symbol) [0x00644FF7]\n\tBaseThreadInitThunk [0x76C900C9+25]\n\tRtlGetAppContainerNamedObjectPath [0x76FF7B4E+286]\n\tRtlGetAppContainerNamedObjectPath [0x76FF7B1E+238]\n",
     "output_type": "error",
     "traceback": [
      "\u001b[1;31m---------------------------------------------------------------------------\u001b[0m",
      "\u001b[1;31mSessionNotCreatedException\u001b[0m                Traceback (most recent call last)",
      "Cell \u001b[1;32mIn[2], line 9\u001b[0m\n\u001b[0;32m      7\u001b[0m \u001b[38;5;66;03m# Initialize WebDriver\u001b[39;00m\n\u001b[0;32m      8\u001b[0m service \u001b[38;5;241m=\u001b[39m Service(webdriver_path)\n\u001b[1;32m----> 9\u001b[0m driver \u001b[38;5;241m=\u001b[39m webdriver\u001b[38;5;241m.\u001b[39mChrome(service\u001b[38;5;241m=\u001b[39mservice, options\u001b[38;5;241m=\u001b[39mchrome_options)\n",
      "File \u001b[1;32m~\\AppData\\Local\\anaconda3\\Lib\\site-packages\\selenium\\webdriver\\chrome\\webdriver.py:45\u001b[0m, in \u001b[0;36mWebDriver.__init__\u001b[1;34m(self, options, service, keep_alive)\u001b[0m\n\u001b[0;32m     42\u001b[0m service \u001b[38;5;241m=\u001b[39m service \u001b[38;5;28;01mif\u001b[39;00m service \u001b[38;5;28;01melse\u001b[39;00m Service()\n\u001b[0;32m     43\u001b[0m options \u001b[38;5;241m=\u001b[39m options \u001b[38;5;28;01mif\u001b[39;00m options \u001b[38;5;28;01melse\u001b[39;00m Options()\n\u001b[1;32m---> 45\u001b[0m \u001b[38;5;28msuper\u001b[39m()\u001b[38;5;241m.\u001b[39m\u001b[38;5;21m__init__\u001b[39m(\n\u001b[0;32m     46\u001b[0m     browser_name\u001b[38;5;241m=\u001b[39mDesiredCapabilities\u001b[38;5;241m.\u001b[39mCHROME[\u001b[38;5;124m\"\u001b[39m\u001b[38;5;124mbrowserName\u001b[39m\u001b[38;5;124m\"\u001b[39m],\n\u001b[0;32m     47\u001b[0m     vendor_prefix\u001b[38;5;241m=\u001b[39m\u001b[38;5;124m\"\u001b[39m\u001b[38;5;124mgoog\u001b[39m\u001b[38;5;124m\"\u001b[39m,\n\u001b[0;32m     48\u001b[0m     options\u001b[38;5;241m=\u001b[39moptions,\n\u001b[0;32m     49\u001b[0m     service\u001b[38;5;241m=\u001b[39mservice,\n\u001b[0;32m     50\u001b[0m     keep_alive\u001b[38;5;241m=\u001b[39mkeep_alive,\n\u001b[0;32m     51\u001b[0m )\n",
      "File \u001b[1;32m~\\AppData\\Local\\anaconda3\\Lib\\site-packages\\selenium\\webdriver\\chromium\\webdriver.py:66\u001b[0m, in \u001b[0;36mChromiumDriver.__init__\u001b[1;34m(self, browser_name, vendor_prefix, options, service, keep_alive)\u001b[0m\n\u001b[0;32m     57\u001b[0m executor \u001b[38;5;241m=\u001b[39m ChromiumRemoteConnection(\n\u001b[0;32m     58\u001b[0m     remote_server_addr\u001b[38;5;241m=\u001b[39m\u001b[38;5;28mself\u001b[39m\u001b[38;5;241m.\u001b[39mservice\u001b[38;5;241m.\u001b[39mservice_url,\n\u001b[0;32m     59\u001b[0m     browser_name\u001b[38;5;241m=\u001b[39mbrowser_name,\n\u001b[1;32m   (...)\u001b[0m\n\u001b[0;32m     62\u001b[0m     ignore_proxy\u001b[38;5;241m=\u001b[39moptions\u001b[38;5;241m.\u001b[39m_ignore_local_proxy,\n\u001b[0;32m     63\u001b[0m )\n\u001b[0;32m     65\u001b[0m \u001b[38;5;28;01mtry\u001b[39;00m:\n\u001b[1;32m---> 66\u001b[0m     \u001b[38;5;28msuper\u001b[39m()\u001b[38;5;241m.\u001b[39m\u001b[38;5;21m__init__\u001b[39m(command_executor\u001b[38;5;241m=\u001b[39mexecutor, options\u001b[38;5;241m=\u001b[39moptions)\n\u001b[0;32m     67\u001b[0m \u001b[38;5;28;01mexcept\u001b[39;00m \u001b[38;5;167;01mException\u001b[39;00m:\n\u001b[0;32m     68\u001b[0m     \u001b[38;5;28mself\u001b[39m\u001b[38;5;241m.\u001b[39mquit()\n",
      "File \u001b[1;32m~\\AppData\\Local\\anaconda3\\Lib\\site-packages\\selenium\\webdriver\\remote\\webdriver.py:212\u001b[0m, in \u001b[0;36mWebDriver.__init__\u001b[1;34m(self, command_executor, keep_alive, file_detector, options)\u001b[0m\n\u001b[0;32m    210\u001b[0m \u001b[38;5;28mself\u001b[39m\u001b[38;5;241m.\u001b[39m_authenticator_id \u001b[38;5;241m=\u001b[39m \u001b[38;5;28;01mNone\u001b[39;00m\n\u001b[0;32m    211\u001b[0m \u001b[38;5;28mself\u001b[39m\u001b[38;5;241m.\u001b[39mstart_client()\n\u001b[1;32m--> 212\u001b[0m \u001b[38;5;28mself\u001b[39m\u001b[38;5;241m.\u001b[39mstart_session(capabilities)\n\u001b[0;32m    214\u001b[0m \u001b[38;5;28mself\u001b[39m\u001b[38;5;241m.\u001b[39m_websocket_connection \u001b[38;5;241m=\u001b[39m \u001b[38;5;28;01mNone\u001b[39;00m\n\u001b[0;32m    215\u001b[0m \u001b[38;5;28mself\u001b[39m\u001b[38;5;241m.\u001b[39m_script \u001b[38;5;241m=\u001b[39m \u001b[38;5;28;01mNone\u001b[39;00m\n",
      "File \u001b[1;32m~\\AppData\\Local\\anaconda3\\Lib\\site-packages\\selenium\\webdriver\\remote\\webdriver.py:299\u001b[0m, in \u001b[0;36mWebDriver.start_session\u001b[1;34m(self, capabilities)\u001b[0m\n\u001b[0;32m    292\u001b[0m \u001b[38;5;250m\u001b[39m\u001b[38;5;124;03m\"\"\"Creates a new session with the desired capabilities.\u001b[39;00m\n\u001b[0;32m    293\u001b[0m \n\u001b[0;32m    294\u001b[0m \u001b[38;5;124;03m:Args:\u001b[39;00m\n\u001b[0;32m    295\u001b[0m \u001b[38;5;124;03m - capabilities - a capabilities dict to start the session with.\u001b[39;00m\n\u001b[0;32m    296\u001b[0m \u001b[38;5;124;03m\"\"\"\u001b[39;00m\n\u001b[0;32m    298\u001b[0m caps \u001b[38;5;241m=\u001b[39m _create_caps(capabilities)\n\u001b[1;32m--> 299\u001b[0m response \u001b[38;5;241m=\u001b[39m \u001b[38;5;28mself\u001b[39m\u001b[38;5;241m.\u001b[39mexecute(Command\u001b[38;5;241m.\u001b[39mNEW_SESSION, caps)[\u001b[38;5;124m\"\u001b[39m\u001b[38;5;124mvalue\u001b[39m\u001b[38;5;124m\"\u001b[39m]\n\u001b[0;32m    300\u001b[0m \u001b[38;5;28mself\u001b[39m\u001b[38;5;241m.\u001b[39msession_id \u001b[38;5;241m=\u001b[39m response\u001b[38;5;241m.\u001b[39mget(\u001b[38;5;124m\"\u001b[39m\u001b[38;5;124msessionId\u001b[39m\u001b[38;5;124m\"\u001b[39m)\n\u001b[0;32m    301\u001b[0m \u001b[38;5;28mself\u001b[39m\u001b[38;5;241m.\u001b[39mcaps \u001b[38;5;241m=\u001b[39m response\u001b[38;5;241m.\u001b[39mget(\u001b[38;5;124m\"\u001b[39m\u001b[38;5;124mcapabilities\u001b[39m\u001b[38;5;124m\"\u001b[39m)\n",
      "File \u001b[1;32m~\\AppData\\Local\\anaconda3\\Lib\\site-packages\\selenium\\webdriver\\remote\\webdriver.py:354\u001b[0m, in \u001b[0;36mWebDriver.execute\u001b[1;34m(self, driver_command, params)\u001b[0m\n\u001b[0;32m    352\u001b[0m response \u001b[38;5;241m=\u001b[39m \u001b[38;5;28mself\u001b[39m\u001b[38;5;241m.\u001b[39mcommand_executor\u001b[38;5;241m.\u001b[39mexecute(driver_command, params)\n\u001b[0;32m    353\u001b[0m \u001b[38;5;28;01mif\u001b[39;00m response:\n\u001b[1;32m--> 354\u001b[0m     \u001b[38;5;28mself\u001b[39m\u001b[38;5;241m.\u001b[39merror_handler\u001b[38;5;241m.\u001b[39mcheck_response(response)\n\u001b[0;32m    355\u001b[0m     response[\u001b[38;5;124m\"\u001b[39m\u001b[38;5;124mvalue\u001b[39m\u001b[38;5;124m\"\u001b[39m] \u001b[38;5;241m=\u001b[39m \u001b[38;5;28mself\u001b[39m\u001b[38;5;241m.\u001b[39m_unwrap_value(response\u001b[38;5;241m.\u001b[39mget(\u001b[38;5;124m\"\u001b[39m\u001b[38;5;124mvalue\u001b[39m\u001b[38;5;124m\"\u001b[39m, \u001b[38;5;28;01mNone\u001b[39;00m))\n\u001b[0;32m    356\u001b[0m     \u001b[38;5;28;01mreturn\u001b[39;00m response\n",
      "File \u001b[1;32m~\\AppData\\Local\\anaconda3\\Lib\\site-packages\\selenium\\webdriver\\remote\\errorhandler.py:229\u001b[0m, in \u001b[0;36mErrorHandler.check_response\u001b[1;34m(self, response)\u001b[0m\n\u001b[0;32m    227\u001b[0m         alert_text \u001b[38;5;241m=\u001b[39m value[\u001b[38;5;124m\"\u001b[39m\u001b[38;5;124malert\u001b[39m\u001b[38;5;124m\"\u001b[39m]\u001b[38;5;241m.\u001b[39mget(\u001b[38;5;124m\"\u001b[39m\u001b[38;5;124mtext\u001b[39m\u001b[38;5;124m\"\u001b[39m)\n\u001b[0;32m    228\u001b[0m     \u001b[38;5;28;01mraise\u001b[39;00m exception_class(message, screen, stacktrace, alert_text)  \u001b[38;5;66;03m# type: ignore[call-arg]  # mypy is not smart enough here\u001b[39;00m\n\u001b[1;32m--> 229\u001b[0m \u001b[38;5;28;01mraise\u001b[39;00m exception_class(message, screen, stacktrace)\n",
      "\u001b[1;31mSessionNotCreatedException\u001b[0m: Message: session not created: This version of ChromeDriver only supports Chrome version 114\nCurrent browser version is 129.0.6668.90 with binary path C:\\Program Files\\Google\\Chrome\\Application\\chrome.exe\nStacktrace:\nBacktrace:\n\tGetHandleVerifier [0x006BA813+48355]\n\t(No symbol) [0x0064C4B1]\n\t(No symbol) [0x00555358]\n\t(No symbol) [0x005761AC]\n\t(No symbol) [0x00571EF3]\n\t(No symbol) [0x00570579]\n\t(No symbol) [0x005A0C55]\n\t(No symbol) [0x005A093C]\n\t(No symbol) [0x0059A536]\n\t(No symbol) [0x005782DC]\n\t(No symbol) [0x005793DD]\n\tGetHandleVerifier [0x0091AABD+2539405]\n\tGetHandleVerifier [0x0095A78F+2800735]\n\tGetHandleVerifier [0x0095456C+2775612]\n\tGetHandleVerifier [0x007451E0+616112]\n\t(No symbol) [0x00655F8C]\n\t(No symbol) [0x00652328]\n\t(No symbol) [0x0065240B]\n\t(No symbol) [0x00644FF7]\n\tBaseThreadInitThunk [0x76C900C9+25]\n\tRtlGetAppContainerNamedObjectPath [0x76FF7B4E+286]\n\tRtlGetAppContainerNamedObjectPath [0x76FF7B1E+238]\n"
     ]
    }
   ],
   "source": [
    "webdriver_path = r'C:\\Users\\LTIM_10700357\\Downloads\\chromedriver_win32\\chromedriver.exe'  # Adjust this path\n",
    "\n",
    "# Set up Chrome options\n",
    "chrome_options = Options()\n",
    "chrome_options.add_argument(\"--headless\")  # Run in headless mode\n",
    "\n",
    "# Initialize WebDriver\n",
    "service = Service(webdriver_path)\n",
    "driver = webdriver.Chrome(service=service, options=chrome_options)"
   ]
  },
  {
   "cell_type": "code",
   "execution_count": null,
   "id": "bcdf773e",
   "metadata": {},
   "outputs": [],
   "source": [
    "# today = datetime.datetime.today().strftime('%Y-%m-%d')\n",
    "# today1 = dt.now() # get date and time today\n",
    "# delta = td(days=7) #initialize delta\n",
    "# date_before = today1 - delta # add the delta days\n",
    "# date_before=date_before.strftime('%Y-%m-%d') # format it\n",
    "print('date taken')\n",
    "# today_new = parser.parse(today)\n",
    "# date_before_new=parser.parse(date_before)\n",
    "\n",
    "# current_date = today_new.isoformat()\n",
    "# previous_date = date_before_new.isoformat()\n",
    "# week_later_date = week_later.isoformat()\n",
    "today = datetime.datetime.utcnow().today().strftime('%Y-%m-%d')\n",
    "today1 = dt.utcnow().now() # get date and time today\n",
    "delta = td(days=7) #initialize delta\n",
    "date_before = today1 - delta # add the delta days\n",
    "date_before=date_before.strftime('%Y-%m-%d') # format it"
   ]
  },
  {
   "cell_type": "code",
   "execution_count": null,
   "id": "a469a894",
   "metadata": {},
   "outputs": [],
   "source": [
    "date_dict={'name': ['February_March_2023'],'from':[date_before],'to':[today],'status':[''],'completed_on':['']}\n",
    "# date_dict={'name': ['February_March_2023'],'from':['2024-08-16'],'to':['2024-08-23'],'status':[''],'completed_on':['']}"
   ]
  },
  {
   "cell_type": "code",
   "execution_count": null,
   "id": "74cc1f42",
   "metadata": {},
   "outputs": [],
   "source": [
    "# date_dict={'name': ['February_March_2023'],'from':['17-04-2023'],'to':['23-04-2023'],'status':[''],'completed_on':['']}"
   ]
  },
  {
   "cell_type": "code",
   "execution_count": null,
   "id": "dcba8add",
   "metadata": {},
   "outputs": [],
   "source": [
    "#date_range=pd.read_csv(r'C:\\Users\\SAL006\\FATF\\date_range.csv')\n",
    "date_range=pd.DataFrame.from_dict(date_dict)"
   ]
  },
  {
   "cell_type": "code",
   "execution_count": null,
   "id": "70181457",
   "metadata": {},
   "outputs": [],
   "source": [
    "#date_range=date_range.sort_values('to', ascending=False)\n",
    "#date_range['status']=''\n",
    "#date_range['completed_on']=''\n",
    "# date_range['from'] = date_range['from'].dt.date\n",
    "# date_range['to'] = date_range['to'].dt.date"
   ]
  },
  {
   "cell_type": "code",
   "execution_count": null,
   "id": "ec831741",
   "metadata": {},
   "outputs": [],
   "source": [
    "date_range.head()"
   ]
  },
  {
   "cell_type": "code",
   "execution_count": null,
   "id": "fd5dd984",
   "metadata": {},
   "outputs": [],
   "source": [
    "gn = GoogleNews(lang = 'en', country = 'IN')"
   ]
  },
  {
   "cell_type": "code",
   "execution_count": null,
   "id": "6ad083bb",
   "metadata": {},
   "outputs": [],
   "source": [
    "nlp = spacy.load('en_core_web_lg')"
   ]
  },
  {
   "cell_type": "code",
   "execution_count": null,
   "id": "6cfa855f",
   "metadata": {},
   "outputs": [],
   "source": [
    "def get_titles(search_string,from_date,to_date):\n",
    "    #print('*Fetching URLs*')\n",
    "    stories=[]\n",
    "    search=gn.search(search_string,from_=from_date,to_=to_date)\n",
    "    newsitems=search['entries']\n",
    "    # print(newsitems)\n",
    "    for item in newsitems:\n",
    "        story={\n",
    "            'published': item.published,\n",
    "            'title': item.title,\n",
    "            'link': item.link,\n",
    "            'searchcriteria': search_string,\n",
    "            'source':item['source']['href']\n",
    "           # 'pub':item['source']['title']\n",
    "        }\n",
    "        stories.append(story)\n",
    "    return stories"
   ]
  },
  {
   "cell_type": "code",
   "execution_count": null,
   "id": "345b2178-0938-4d18-8222-16db006826fa",
   "metadata": {},
   "outputs": [],
   "source": [
    "def get_hotwords(text, top_n=10, min_length=4):\n",
    "    result = []\n",
    "    pos_tag = ['PROPN', 'ADJ', 'NOUN']\n",
    "    doc = nlp(text.lower())\n",
    "    \n",
    "    # Create a list to store tokens\n",
    "    tokens = [token.text for token in doc \n",
    "              if token.text not in nlp.Defaults.stop_words and \n",
    "              token.text not in punctuation and \n",
    "              token.pos_ in pos_tag and \n",
    "              len(token.text) >= min_length]\n",
    "    \n",
    "    # Count the frequency of each token\n",
    "    token_freq = Counter(tokens)\n",
    "    \n",
    "    # Get the most common tokens\n",
    "    most_common_tokens = token_freq.most_common(top_n)\n",
    "    \n",
    "    # Extract the tokens from the tuples\n",
    "    result = [token for token, freq in most_common_tokens]\n",
    "    \n",
    "    return result"
   ]
  },
  {
   "cell_type": "code",
   "execution_count": 4,
   "id": "ef22af43",
   "metadata": {
    "scrolled": true
   },
   "outputs": [],
   "source": [
    "def fetch_article(df_news):\n",
    "    article_list=[]\n",
    "    for i in df_news.to_dict(orient='records'):\n",
    "        try:\n",
    "            url=i['link']\n",
    "            source=i['source']\n",
    "            pub=source.split('//')[1]\n",
    "            article = Article(url)\n",
    "            article.download()\n",
    "            article.parse()\n",
    "            authors=article.authors\n",
    "            # atext=re.sub('(Also watch|Also read).*$','',article.text)\n",
    "            # atext=article.text\n",
    "            sleep(randint(1,10))\n",
    "            atext=fetch_article_body(url)\n",
    "            # print(atext[:200])\n",
    "            atitle=i['title']\n",
    "            article.nlp()\n",
    "            hotwords = set(get_hotwords(atext))\n",
    "            keywords1 = ', '.join(sorted(hotwords))\n",
    "            words_list = keywords1.split(',')\n",
    "            selected_words = random.sample(words_list, 20)\n",
    "            keywords = ','.join(selected_words)\n",
    "            # keywords=article.keywords #finds significant keywords\n",
    "            persons=person_tagger(atext)\n",
    "            persons_cleaned=[]\n",
    "            for person in persons:\n",
    "                if len(nltk.word_tokenize(person))>1:\n",
    "                    persons_cleaned.append(person.upper())        \n",
    "            article = {'publish_date': i['published'],\n",
    "                    'publisher': regexp.match(url).group(1).upper(),\n",
    "                    'pub':pub,\n",
    "                    'title': atitle,\n",
    "                    'article': atext.replace('\\n',''),\n",
    "                    'persons': persons_cleaned,\n",
    "                    'keywords': keywords,            \n",
    "                    'link': url,\n",
    "                    'source':source,\n",
    "                    'searchcriteria': i['searchcriteria']\n",
    "                    }\n",
    "            # print(article)\n",
    "            # print('-------------------------')\n",
    "            article_list.append(article)\n",
    "            # print(article_list)\n",
    "        except Exception as e:\n",
    "            pass\n",
    "    # print(article_list)\n",
    "    return article_list"
   ]
  },
  {
   "cell_type": "code",
   "execution_count": 5,
   "id": "ba9e8b7b-2ed8-4a24-8d7b-1f725e6be8d4",
   "metadata": {},
   "outputs": [],
   "source": [
    "article_body1 = 'No Records Extracted'\n",
    "def fetch_article_body(link):\n",
    "    webdriver_path = r'C:\\Users\\LTIM_10700357\\Downloads\\chrome-win64\\chrome-win64\\chrome.exe'  # Adjust this path\n",
    "# Set up Chrome options\n",
    "    chrome_options = Options()\n",
    "    chrome_options.add_argument(\"--headless\")  # Run in headless mode\n",
    "# Initialize WebDriver\n",
    "    service = Service(webdriver_path)\n",
    "    driver = webdriver.Chrome(service=service, options=chrome_options)\n",
    "    article_url = link\n",
    "    driver.get(article_url)\n",
    "    sleep(randint(10,100))\n",
    "    soup = BeautifulSoup(driver.page_source, 'html.parser')\n",
    "# print(soup.prettify())\n",
    "    scripts = soup.find_all('script', type='application/ld+json')\n",
    "    driver.quit()\n",
    "    for script in scripts:\n",
    "        if script:\n",
    "            json_ld_data = script.string\n",
    "            json_ld_data = json_ld_data.strip()  # Remove leading/trailing whitespace\n",
    "            json_ld_data = json_ld_data.replace('\\n', '')  # Remove newlines\n",
    "            json_ld_data = json_ld_data.replace('  ', '')\n",
    "            try:\n",
    "                data = json.loads(json_ld_data)\n",
    "                if data.get('@type') == 'NewsArticle':\n",
    "                    article_body = data.get('articleBody',article_body1)\n",
    "            except json.JSONDecodeError as e:\n",
    "            # Print the error and problematic JSON data\n",
    "                print(f'Error decoding JSON: {e}')\n",
    "                print('Problematic JSON Data:', json_ld_data)\n",
    "    return article_body"
   ]
  },
  {
   "cell_type": "code",
   "execution_count": null,
   "id": "c5cf61bc",
   "metadata": {},
   "outputs": [],
   "source": [
    "crime_list=['forge', 'forged', 'forgery', 'drug trafficking', 'drug', 'poaching', 'poacher', 'prostitution', 'trafficking', 'bribe', 'corruption', 'insider trading', 'organ trafficking', 'cyber crime', 'scam', 'chit fund scam', 'it scam', 'nse scam', 'bse scam', 'recruitment scam', 'online scam', 'investment scam', 'smuggling', 'smuggle', 'hair smuggling', 'wildlife smuggling', 'cattle smuggling', 'gold smuggling', 'fraud', 'online fraud', 'cyber fraud', 'bank fraud', 'job fraud', 'gst fraud', 'input tax credit fraud', 'loan fraud', 'housing fraud', 'financial fraud', 'e-fraud', 'crypto fraud', 'cryptocurrency fraud', 'crypto-currency fraud', 'investment fraud', 'extorsion', 'ransom', 'kidnap', 'cheating', 'money-laundering', 'money laundering', 'gst evasion', 'tax evasion', 'terror activity', 'terrorist', 'robbery', 'robber', 'arms racket', 'illegal mining', 'hawala', 'violation', 'murder', 'black marketting', 'riot', 'counterfeit note', 'fake note', 'fake currency', 'counterfeit currency', 'fake notes', 'illegal conversion', 'drug trafficking']"
   ]
  },
  {
   "cell_type": "code",
   "execution_count": null,
   "id": "a67007fb",
   "metadata": {},
   "outputs": [],
   "source": [
    "len(crime_list)\n",
    "print(len(crime_list))"
   ]
  },
  {
   "cell_type": "code",
   "execution_count": null,
   "id": "f9143648",
   "metadata": {},
   "outputs": [],
   "source": [
    "lea_regex=re.compile('( \\(?DGGI\\)? | \\(?DRI\\)? | \\(?IRDA\\)? | \\(?DVAC\\)? | \\(?CID\\)? | \\(?CBI\\)? | \\(?ED\\)? | \\(?NIA\\)? | \\(?CBDT\\)? | \\(?NCB\\)? | \\(?SEBI\\)? | \\(?CBEC\\)? | \\(?NCB\\)? | \\(?RBI\\)? | \\(?MCA\\)? | \\(?MEA\\)? | \\(?MHA\\)? | \\(?DGFT\\)? | \\(?IB\\)? |DIRECTORATE OF ENFORCEMENT|ENFORCEMENT DIRECTORATE|CENTRAL BOARD OF DIRECT TAXES|DIRECTORATE OF REVENUE INTELLIGENCE|DIRECTORATE GENERAL OF GST INTELLIGENCE|CENTRAL BUREAU OF INVESTIGATION|NATIONAL INVESTIGATION AGENCY|NARCOTICS CONTROL BUREAU|SERIOUS FRAUD INVESTIGATION OFFICE|FOREIGNERS DIVISION|CENTRAL ECONOMIC INTELLIGENCE BUREAU|INTELLIGENCE BUREAU|RESEARCH AND ANALYSIS WING|NATIONAL SECURITY COUNCIL SECRETARIAT|RESERVE BANK OF INDIA|SECURITIES AND EXCHANGE BOARD OF INDIA|INSURANCE REGULATORY AND DEVELOPMENT AUTHORITY|BUREAU OF IMMIGRATION|MINISTRY OF EXTERNAL AFFAIRS|MINISTRY OF CORPORATE AFFAIRS|EGMONT|CENTRAL BOARD OF EXCISE AND CUSTOMS|MINISTRY OF HOME AFFAIRS|DIRECTORATE GENERAL OF FOREIGN TRADE|DIRECTORATE OF INCOME TAX|CENTRAL VIGILANCE COMMISSION|DIRECTORATE OF VIGILANCE AND ANTI(-)?CORRUPTION|DIRECTORATE GENERAL OF GST INTELLIGENCE|DIRECTORATE OF REVENUE INTELLIGENCE|INSURANCE REGULATORY AND DEVELOPMENT AUTHORITY)')\n",
    "\n",
    "rename_lea={'ED': 'ENFORCEMENT DIRECTORATE',\n",
    "'DIRECTORATE OF ENFORCEMENT': 'ENFORCEMENT DIRECTORATE',\n",
    "'NIA':'NATIONAL INVESTIGATION AGENCY',\n",
    "'CBDT':'CENTRAL BOARD OF DIRECT TAXES',\n",
    "'NCB':'NARCOTICS CONTROL BUREAU' ,\n",
    "'SEBI': 'SECURITIES AND EXCHANGE BOARD OF INDIA',\n",
    "'CBEC':'CENTRAL BOARD OF EXCISE AND CUSTOMS' ,\n",
    "'NCB': 'NARCOTICS CONTROL BUREAU',\n",
    "'RBI': 'RESERVE BANK OF INDIA',\n",
    "'MCA': 'MINISTRY OF CORPORATE AFFAIRS',\n",
    "'MEA':'MINISTRY OF EXTERNAL AFFAIRS',\n",
    "'MHA': 'MINISTRY OF HOME AFFAIRS',\n",
    "'DGFT':'DIRECTORATE GENERAL OF FOREIGN TRADE',\n",
    "'IB': 'INTELLIGENCE BUREAU',\n",
    "'CBI': 'CENTRAL BUREAU OF INVESTIGATION',\n",
    "'CID':'CRIMINAL INVESTIGATION DEPARTMENT',\n",
    "'DVAC': 'DIRECTORATE OF VIGILANCE AND ANTI CORRUPTION',\n",
    "'DGGI' : 'DIRECTORATE GENERAL OF GST INTELLIGENCE',\n",
    "'DRI':'DIRECTORATE OF REVENUE INTELLIGENCE',\n",
    "'IRDA': 'INSURANCE REGULATORY AND DEVELOPMENT AUTHORITY'\n",
    "           }"
   ]
  },
  {
   "cell_type": "code",
   "execution_count": null,
   "id": "943bfb61",
   "metadata": {},
   "outputs": [],
   "source": [
    "def rename_leas(names):\n",
    "    #print('*Renaming LEA abbreviations*')\n",
    "    updated_list=[]\n",
    "    for i in names:\n",
    "        if i in rename_lea.keys():\n",
    "            updated_list.append(rename_lea[i])\n",
    "        else:\n",
    "            updated_list.append(i)\n",
    "    return list(set(updated_list))  \n",
    "\n",
    "def person_tagger(txt):\n",
    "    #print('*Tagging Persons*')\n",
    "    doc=nlp(txt)\n",
    "    entity=[]\n",
    "    person_list=[re.sub(r'[^A-Za-z\\s]+', '',entity.text.lower().replace('\\n','')) for entity in doc.ents if entity.label_=='PERSON']\n",
    "    person_list=set(person_list)\n",
    "    return person_list\n"
   ]
  },
  {
   "cell_type": "code",
   "execution_count": null,
   "id": "6a525cd1",
   "metadata": {},
   "outputs": [],
   "source": [
    "def remove_duplicates(df_dups):\n",
    "    #print('*Removing Duplicates*')\n",
    "    title_list=list(set(df_dups['title'].to_list()))\n",
    "    df_dups['cluster_no']=''\n",
    "    c=1\n",
    "    processed=[]\n",
    "    for title in title_list:\n",
    "        if title not in processed:\n",
    "            matches=[]\n",
    "            b=[i for i in title_list if i!=title and i not in processed]\n",
    "            matches_list=process.extractBests(title, b ,scorer=fuzz.token_sort_ratio,score_cutoff=65)\n",
    "            if len(matches_list)>=1:\n",
    "                for i in matches_list:\n",
    "                    matches.append(i[0])\n",
    "                matches.append(title)\n",
    "                #print(c, matches)\n",
    "                for i in matches:\n",
    "                    df_dups.loc[df_dups['title']==i,'cluster_no']=c\n",
    "                c=c+1\n",
    "                for i in matches:\n",
    "                    processed.append(i)\n",
    "            else:\n",
    "                df_dups.loc[df_dups['title']==title,'cluster_no']=c\n",
    "                processed.append(title)\n",
    "                c=c+1\n",
    "    df_dups['article_length']=df_dups['article'].apply(lambda x: len(nltk.word_tokenize(x)))\n",
    "    df_dups=df_dups.sort_values(['cluster_no', 'article_length'],ascending=[True,False]).drop_duplicates(['cluster_no'], keep='first')\n",
    "    df_dups=df_dups[df_dups['article_length']>40].drop(['cluster_no','article_length'],axis=1)\n",
    "    return df_dups"
   ]
  },
  {
   "cell_type": "code",
   "execution_count": null,
   "id": "008b59a7",
   "metadata": {},
   "outputs": [],
   "source": [
    "regexp=re.compile('^.*//(.*?)/.*$')\n"
   ]
  },
  {
   "cell_type": "code",
   "execution_count": null,
   "id": "ce75aa74",
   "metadata": {},
   "outputs": [],
   "source": [
    "news_providers=['ECONOMICTIMES.INDIATIMES.COM', 'ENGLISH.LOKMAT.COM', 'ANINEWS.IN', 'INDIANEXPRESS.COM', 'TIMESOFINDIA.INDIATIMES.COM', 'HINDUSTANTIMES.COM', 'INDIATODAY.IN', 'NEWINDIANEXPRESS.COM', 'REPUBLICWORLD.COM', 'TIMESNOWNEWS.COM', 'TRIBUNEINDIA.COM', 'THEPRINT.IN', 'BUSINESS-STANDARD.COM', 'BUSINESSTODAY.IN', 'FINANCIALEXPRESS.COM', 'FREEPRESSJOURNAL.IN', 'LIVELAW.IN', 'MONEYCONTROL.COM', 'NEWS18.COM', 'THEHINDUBUSINESSLINE.COM', 'THESTATESMAN.COM', 'UNIINDIA.COM', 'ENGLISH.JAGRAN.COM', 'MUMBAIMIRROR.INDIATIMES.COM', 'NEWS.ABPLIVE.COM', 'SCROLL.IN', 'TEHELKA.COM', 'THEWIRE.IN', 'BUSINESSINSIDER.IN', 'DECCANCHRONICLE.COM', 'DECCANHERALD.COM', 'DNAINDIA.COM', 'INDIATIMES.COM', 'INDIATVNEWS.COM', 'LIVEMINT.COM', 'NDTV.COM', 'NEWS24.COM', 'THEHITAVADA.COM', 'ZEENEWS.INDIA.COM']"
   ]
  },
  {
   "cell_type": "code",
   "execution_count": null,
   "id": "6fac55e0",
   "metadata": {},
   "outputs": [],
   "source": [
    "news_providers"
   ]
  },
  {
   "cell_type": "code",
   "execution_count": null,
   "id": "f2bde731",
   "metadata": {},
   "outputs": [],
   "source": [
    "rss_dict=['(\"Crypto\" OR \"Cryptocurrency\") AND (\"scam\" OR \"fraud\" OR \"cheating\" OR \"duped\" OR \"pyramid\")',\n",
    "'\"ransomware\" AND (\"crore\" OR \"crores\")',\n",
    "'(\"China\" OR \"Chinese\") AND \"fraud\"',\n",
    "'\"Organised crime\"',\n",
    "'\"Human trafficking\"',\n",
    "'\"Black money\"',\n",
    "'Benami',\n",
    "'\"Sanctions List\"',\n",
    "'\"Kashmir\" AND \"funding\"',\n",
    "'\"Separatist\" AND \"India\"',\n",
    "'\"Criminal proceeds\"',\n",
    "'\"Denied Persons List\"',\n",
    "'\"Visa\" AND \"Overstaying\"',\n",
    "'\"Ponzi\" AND \"Scheme\"',\n",
    "'\"Shell Company\" AND \"Beneficiary\"',\n",
    "'forge AND (billion OR million OR crores OR crore OR \" cr \")',\n",
    "'trafficking AND (billion OR million OR crores OR crore OR \" cr \")',\n",
    "'bribe AND (billion OR million OR crores OR crore OR \" cr \")',\n",
    "'corruption AND (billion OR million OR crores OR crore OR \" cr \")',\n",
    "'\"insider trading\" AND (billion OR million OR crores OR crore OR \" cr \")',\n",
    "'smuggle AND (billion OR million OR crores OR crore OR \" cr \")',\n",
    "'ransom AND (billion OR million OR crores OR crore OR \" cr \")',\n",
    "'kidnap AND (billion OR million OR crores OR crore OR \" cr \")',\n",
    "'robbery AND (billion OR million OR crores OR crore OR \" cr \")',\n",
    "'racket AND (billion OR million OR crores OR crore OR \" cr \")',\n",
    "'\"illegal mining\" AND (billion OR million OR crores OR crore OR \" cr \")',\n",
    "'hawala AND (billion OR million OR crores OR crore OR \" cr \")',\n",
    "'\"black marketing\" AND (billion OR million OR crores OR crore OR \" cr \")',\n",
    "'\"fake currency\" AND (billion OR million OR crores OR crore OR \" cr \")',\n",
    "'\"counterfeit currency\" AND (billion OR million OR crores OR crore OR \" cr \")',\n",
    "'\"illegal conversion\" AND (billion OR million OR crores OR crore OR \" cr \")',\n",
    "'crime AND (billion OR million OR crores OR crore OR \" cr \")',\n",
    "'scam AND (billion OR million OR crores OR crore OR \" cr \")',\n",
    "'fraud AND (billion OR million OR crores OR crore OR \" cr \")',\n",
    "'evasion AND (billion OR million OR crores OR crore OR \" cr \")',\n",
    "'extortion AND (billion OR million OR crores OR crore OR \" cr \")',\n",
    "'\"money laundering\" AND (billion OR million OR crores OR crore OR \" cr \")',\n",
    " #old tags---        \n",
    "'\"Enforcement Directorate\" OR \"Directorate of Enforcement\" OR \"ED\"',\n",
    "'\"Directorate General of GST Intelligence\" OR \"DGGI\"',\n",
    "'\"Directorate of Revenue Intelligence\"',\n",
    "'\"Central Bureau of Investigation\" OR \"CBI\"',\n",
    "'\"National Investigation Agency\" OR \"NIA\"',\n",
    "'(\"Income Tax Department\" OR \"I-T Department\" OR \"IT Department\") AND (Seizure OR seized OR Raid OR fine OR fraud)',\n",
    "'(\"Securities and Exchange Board of India\" OR \"SEBI\") AND (Seizure OR seized OR Penalty OR Raid OR fine OR fraud)',\n",
    "'(\"Reserve Bank of India\" OR \"RBI\") AND (Penalty OR Raid OR fine OR seizure OR seized OR fraud)',\n",
    "'(\"Insurance Regulatory and Development Authority\" OR \"IRDA\") AND (Penalty OR Raid OR fine OR seized OR Seizure OR fraud)',\n",
    "'\"Narcotics Control Bureau\" OR \"NCB\"',\n",
    "'(\"GST\" OR \"Goods and Service Tax\") AND (seized OR Seizure OR Customs OR Raid OR fine OR fraud)',\n",
    "'\"Under-invoicing\" OR Underinvoicing OR misinvoicing',\n",
    "'\"Over-invoicing\" OR Overinvoicing OR misinvoicing',\n",
    "'\"cyber fraud\" OR \"online fraud\" OR \"cyber crime\" OR cybercrime',\n",
    "'\"cyber police\" OR \"police special cell\"',\n",
    "'\"insurance fraud\"',\n",
    "'\"Drug Trafficking\"',\n",
    "'\"Illegal mining\"',\n",
    "'\"Input Tax Credit Fraud\" or \"tax credit fraud\" or \"tax fraud\"',\n",
    "'\"Anti Terrorist Squad\" OR \"Anti-Terrorist Squad\" OR \"Anti terrorism Squad\" OR \"Anti-terrorism Squad\" OR \"anti-terror unit\" OR \"anti terror unit\"',\n",
    "'\"Counterfeit Currency\" OR \"Fake Indian Currency\" OR \"Fake currency Racket\" OR \"Fake currency found\"',\n",
    "'(\"Wild life\" OR Hunting OR Animals OR Wildlife) AND (Rhino OR Smuggl OR syndicate OR racket OR gang OR poaching OR MAFIA)']"
   ]
  },
  {
   "cell_type": "code",
   "execution_count": null,
   "id": "b63d4649",
   "metadata": {},
   "outputs": [],
   "source": [
    "# date_range.to_dict(orient='records')"
   ]
  },
  {
   "cell_type": "code",
   "execution_count": null,
   "id": "f75e0dab-1a5e-46ef-a066-52090759cd54",
   "metadata": {},
   "outputs": [],
   "source": [
    "# df_news_demo=df_news.head(10)"
   ]
  },
  {
   "cell_type": "code",
   "execution_count": null,
   "id": "e3168da4-0a83-4f45-8068-b1546452a53d",
   "metadata": {},
   "outputs": [],
   "source": [
    "# df_final=pd.DataFrame.from_records(fetch_article(df_news_demo))"
   ]
  },
  {
   "cell_type": "code",
   "execution_count": null,
   "id": "ed8c339a-9cc0-4d76-976f-8576d30e0935",
   "metadata": {},
   "outputs": [],
   "source": [
    "# df_final_check=df_final.copy()\n",
    "# df_news"
   ]
  },
  {
   "cell_type": "code",
   "execution_count": null,
   "id": "64242706",
   "metadata": {
    "scrolled": true
   },
   "outputs": [],
   "source": [
    "for month_row in date_range.to_dict(orient='records'):\n",
    "    if  month_row['status']!='Done':\n",
    "        print('Fetching News for Month:',month_row['name'])\n",
    "        df_news=pd.DataFrame()\n",
    "        for topic in tqdm.tqdm(rss_dict):\n",
    "            delay = round(randint(180,360),2)\n",
    "            print(\"Sleeping for \" + str(round(delay/60,1)) + \" minutes\")\n",
    "            time.sleep(round(delay/60,1))\n",
    "            df_news = df_news._append(pd.DataFrame.from_records(get_titles(topic,month_row['from'],month_row['to'])))\n",
    "        df_news.drop_duplicates(subset=['title'],inplace=True)\n",
    "        df_news['selected_news_provider']=df_news['source'].apply(lambda x: str(set([True for i in news_providers if i in x.upper()]))) \n",
    "        df_news['selected_news_provider']=df_news['selected_news_provider'].apply(lambda x: 'True' if x=='{True}' else 'False')\n",
    "        df_news.published = pd.to_datetime(df_news.published)\n",
    "        df_news['published']=df_news['published'].apply(lambda x: str(x)[0:10])\n",
    "        df_news=df_news[df_news['selected_news_provider']=='True']\n",
    "# #         df_news=df_news[['published','title','link','search_criteria','selected_news_provider']]\n",
    "#         df_final=pd.DataFrame.from_records(fetch_article(df_news))\n",
    "#         # print(df_final)\n",
    "#         # df_final['publisher']=df_final['pub'] # extra line added\n",
    "#         df_final=remove_duplicates(df_final)\n",
    "#         regexp_quantum=re.compile('((?: Rs|₹|\\$)(?:.| )?[0-9]+[0-9.,]*[a-z]?(?: |-)(?:lacs|crores|million|lakh|billion|crore|cr)? ?(?:rupees|rupee|dollars|dollar)?)',re.IGNORECASE)\n",
    "#         df_final['quantum']=df_final['article'].apply(lambda x: regexp_quantum.findall(str(x),re.IGNORECASE))+df_final['title'].apply(lambda x: regexp_quantum.findall(str(x),re.IGNORECASE))\n",
    "#         df_final['quantum']=df_final['quantum'].apply(lambda x: list(set([i.replace('₹','Rs ').replace('-','').strip() for i in x ])))\n",
    "#         df_final['lea']=df_final['article'].apply(lambda x: list(set([i.group().replace('(','').replace(')','').strip() for i in re.finditer(lea_regex, str(x).upper())])))\n",
    "#         df_final['lea']=df_final['lea'].apply(rename_leas)\n",
    "#         df_final.dropna(subset=['article'],inplace=True)\n",
    "#         df_final.dropna(subset=['title'],inplace=True)\n",
    "#         df_final.drop_duplicates(subset=['title'],inplace=True)\n",
    "# #         df_final['soucre']=df_news['source'] # extar added line\n",
    "#         # df_news.drop_duplicates(subset=['source'],inplace=True)\n",
    "#         df_final=df_final[df_final['title'].apply(lambda x: len(str(x).split()))>4]\n",
    "#         df_final=df_final[df_final['article'].apply(lambda x: len(str(x).split()))>45]\n",
    "#         df_final=df_final[~df_final['title'].str.contains('^Nia |(.| )?Nia |^Ed |(.| )?Ed |^ed-|(.| )?ed-')]\n",
    "#         df_final=df_final[~df_final['article'].str.contains('^Nia |(.| )?Nia |^Ed |(.| )?Ed |^ed-|(.| )?ed-')]\n",
    "#         df_final['crimes']=df_final['article'].apply(lambda x: [crime for crime in crime_list if crime in x.lower()])+df_final['title'].apply(lambda x: [crime for crime in crime_list if crime in x.lower()])\n",
    "#         df_final['crimes']=df_final['crimes'].apply(lambda x: list(set(x)))\n",
    "# #         df_final.to_excel(r'C:\\Users\\SAL006\\FATF\\News Files\\FATF_News_'+month_row['name']+'.xlsx',index=False)\n",
    "#         date_range.loc[date_range['from']==month_row['from'],'status']='Done'\n",
    "# #         date_range.loc[date_range['from']==month_row['from'],'completed_on']=datetime.now().strftime(\"%Y-%m-%d %H:%M:%S\")\n",
    "#         df_final.rename(columns={\"date\":\"publish_date\"},inplace=True)\n",
    "############################################################################################################################\n",
    "#         df_final.to_sql('news', pengine, schema=\"fatf\", if_exists=\"append\", index=False)\n",
    "#         date_range.to_sql('news_status', pengine, schema=\"fatf\", if_exists=\"replace\", index=False) #arn_no is article number\n",
    "#         sql=\"insert into fatf.news23 (arn_no,publish_date, publisher, title, article, persons, keywords, link, search_criteria, quantum, lea, crimes, locations) \\\n",
    "#         SELECT 'ARN'||nextval('fatf.mysequence'),publish_date, publisher, title, article, persons, keywords, link, search_criteria, quantum, lea, crimes, locations \\\n",
    "#         FROM fatf.news where publish_date>='\"+date_dict['from'][0]+\"'\" \n",
    "#         conn=pengine.connect()\n",
    "#         conn.execute(sql)\n",
    "#         conn.close()\n",
    "\n",
    "        #date_range.to_csv(r'C:\\Users\\SAL006\\FATF\\date_range.csv',index=False)\n",
    "        #delay = randint(1800,10800)\n",
    "        ##print(\"Sleeping for \" + str(delay/3600) + \"hours\")\n",
    "        ##sleep(delay)\n",
    "        "
   ]
  },
  {
   "cell_type": "code",
   "execution_count": null,
   "id": "71894202",
   "metadata": {},
   "outputs": [],
   "source": [
    "df_final.columns"
   ]
  },
  {
   "cell_type": "code",
   "execution_count": null,
   "id": "46291821-310a-4f26-ad3f-7fc1e37422b4",
   "metadata": {},
   "outputs": [],
   "source": [
    "df_final.size"
   ]
  },
  {
   "cell_type": "markdown",
   "id": "8e3d2633",
   "metadata": {},
   "source": [
    "# LOCATION EXTRACTION"
   ]
  },
  {
   "cell_type": "code",
   "execution_count": null,
   "id": "be65c3cf",
   "metadata": {},
   "outputs": [],
   "source": [
    "def locations(text):\n",
    "    locations = []\n",
    "    doc = nlp(text)\n",
    "    locations.extend(ent.text for ent in doc.ents if ent.label_ in ['LOC'])\n",
    "    set_location = list((locations))\n",
    "    return set_location"
   ]
  },
  {
   "cell_type": "code",
   "execution_count": null,
   "id": "38336cb4",
   "metadata": {},
   "outputs": [],
   "source": [
    "df = df_final.copy()"
   ]
  },
  {
   "cell_type": "code",
   "execution_count": null,
   "id": "1fff586f",
   "metadata": {},
   "outputs": [],
   "source": [
    "from tqdm.notebook import tqdm\n",
    "tqdm.pandas()"
   ]
  },
  {
   "cell_type": "code",
   "execution_count": null,
   "id": "d49f8add",
   "metadata": {},
   "outputs": [],
   "source": [
    "df['locations'] = df['article'].progress_apply(locations)"
   ]
  },
  {
   "cell_type": "code",
   "execution_count": null,
   "id": "40b333fd",
   "metadata": {},
   "outputs": [],
   "source": [
    "df.head(1)"
   ]
  },
  {
   "cell_type": "code",
   "execution_count": null,
   "id": "e531f3b0",
   "metadata": {},
   "outputs": [],
   "source": [
    "# df.to_excel(f'C:\\\\Users\\\\SAL004\\\\Desktop\\\\pranav\\\\weekly adverse media articles\\\\news_articles_17-04-2023_to_23-04-2023.xlsx', index = False)"
   ]
  },
  {
   "cell_type": "code",
   "execution_count": null,
   "id": "2fd2cfde",
   "metadata": {},
   "outputs": [],
   "source": [
    "df = df.rename(columns={'pub1':'publisher', 'persons':'personname','searchcriteria':'search_criteria','publish_date':'publishdate'})"
   ]
  },
  {
   "cell_type": "code",
   "execution_count": null,
   "id": "24b8c386",
   "metadata": {},
   "outputs": [],
   "source": [
    "df = df.drop(columns= ['pub1','source'])"
   ]
  },
  {
   "cell_type": "code",
   "execution_count": null,
   "id": "517e27a0",
   "metadata": {},
   "outputs": [],
   "source": [
    "conn = sqlite3.connect(r'C:\\Users\\SAL004\\Desktop\\New folder\\adverse_media_flask\\db2.sqlite')\n",
    "cursor = conn.cursor()"
   ]
  },
  {
   "cell_type": "code",
   "execution_count": null,
   "id": "89d8b44f",
   "metadata": {},
   "outputs": [],
   "source": [
    "cursor.execute(\"select max(cast(substring(arnno,4,10) as int)) from article2\")\n",
    "max_number = cursor.fetchone()[0]\n",
    "\n",
    "# Check if max_number is None\n",
    "if max_number is None:\n",
    "    max_number = 0  # Assuming you want to start from 1 if the table is empty\n",
    "else:\n",
    "    max_number += 1  # Increment the maximum number\n",
    "\n",
    "# Fetch the rows\n",
    "cursor.execute(\"SELECT arnno FROM article2\")  # Make sure to execute a new query to fetch rows\n",
    "rows = cursor.fetchall()\n",
    "\n",
    "# Display fetched data\n",
    "# Close the connection\n",
    "conn.close()"
   ]
  },
  {
   "cell_type": "code",
   "execution_count": null,
   "id": "4359d92a",
   "metadata": {},
   "outputs": [],
   "source": [
    "print(max_number)"
   ]
  },
  {
   "cell_type": "code",
   "execution_count": null,
   "id": "d2d1e735",
   "metadata": {},
   "outputs": [],
   "source": [
    "df.insert(0, 'arnno', [max_number + i for i in range(len(df))])"
   ]
  },
  {
   "cell_type": "code",
   "execution_count": null,
   "id": "ab1eac3b",
   "metadata": {},
   "outputs": [],
   "source": [
    "df['arnno'] = df['arnno'].astype(str)"
   ]
  },
  {
   "cell_type": "code",
   "execution_count": null,
   "id": "7abfe36c",
   "metadata": {},
   "outputs": [],
   "source": [
    "df['arnno'] = df['arnno'].apply(lambda x: 'ARN' + x)"
   ]
  },
  {
   "cell_type": "code",
   "execution_count": null,
   "id": "66fd975e",
   "metadata": {},
   "outputs": [],
   "source": [
    "df.to_excel(f'C:\\\\Users\\\\SAL004\\\\Desktop\\\\pranav\\\\weekly adverse media articles\\\\news_articles_{date_before}_to_{today}.xlsx', index = False)"
   ]
  },
  {
   "cell_type": "code",
   "execution_count": null,
   "id": "c5d0d28b",
   "metadata": {},
   "outputs": [],
   "source": [
    "df['title'] = df['title'].astype(str)\n",
    "df['publisher'] = df['publisher'].astype(str)\n",
    "df['article'] = df['article'].astype(str)\n",
    "df['personname'] = df['personname'].astype(str)\n",
    "df['keywords'] = df['keywords'].astype(str) \n",
    "df['link'] = df['link'].astype(str)\n",
    "df['search_criteria'] = df['search_criteria'].astype(str)\n",
    "df['quantum'] = df['quantum'].astype(str)\n",
    "df['lea'] = df['lea'].astype(str)\n",
    "df['crimes'] = df['crimes'].astype(str)\n",
    "df['locations'] = df['locations'].astype(str)"
   ]
  },
  {
   "cell_type": "code",
   "execution_count": null,
   "id": "3b2281ad-7a1a-4d27-af63-1755282db543",
   "metadata": {},
   "outputs": [],
   "source": [
    "# df = df.drop(columns=['publish_date'])"
   ]
  },
  {
   "cell_type": "code",
   "execution_count": null,
   "id": "13e66c4a-1a3c-4f7e-98d3-de8129717969",
   "metadata": {},
   "outputs": [],
   "source": [
    "df.head(1)"
   ]
  },
  {
   "cell_type": "code",
   "execution_count": null,
   "id": "e957d0b8",
   "metadata": {},
   "outputs": [],
   "source": [
    "conn = sqlite3.connect(r'C:\\\\Users\\\\SAL004\\\\Desktop\\\\New folder\\\\adverse_media_flask\\\\db2.sqlite')\n",
    "df.to_sql('article2', conn, if_exists='append', index=False)"
   ]
  },
  {
   "cell_type": "markdown",
   "id": "e3d4feca",
   "metadata": {},
   "source": [
    "### LAST STEP, UPDATE DATE ABOVE, ABOVE IS THE LAST COLUMN"
   ]
  },
  {
   "cell_type": "markdown",
   "id": "3a84ebcd",
   "metadata": {},
   "source": [
    "# Month End and Next month beginning duplicates removal"
   ]
  },
  {
   "cell_type": "code",
   "execution_count": null,
   "id": "9b0a8544",
   "metadata": {},
   "outputs": [],
   "source": [
    "# date_range=pd.read_csv(r'C:\\Users\\SAL006\\FATF\\date_range_15days_window.csv')"
   ]
  },
  {
   "cell_type": "code",
   "execution_count": null,
   "id": "04c4a2f2",
   "metadata": {},
   "outputs": [],
   "source": [
    "# conn=pengine.connect()\n",
    "# for row in date_range.to_dict('rows'):\n",
    "#     sql=\"SELECT * from fatf.news where publish_date between '\"+ row['from'] +\"' and '\"+ row['to'] +\"'\"\n",
    "#     data_table=pd.read_sql_query(sql,conn)\n",
    "#     dedup_data=remove_duplicates(data_table)\n",
    "#     dedup_data.to_sql('news_final', pengine, schema=\"fatf\", if_exists=\"append\", index=False)\n",
    "# conn.close()"
   ]
  },
  {
   "cell_type": "code",
   "execution_count": 8,
   "id": "4476c3b3-2fc9-48db-a0fd-c3b9e2ffe78f",
   "metadata": {},
   "outputs": [
    {
     "ename": "NameError",
     "evalue": "name 'df_news' is not defined",
     "output_type": "error",
     "traceback": [
      "\u001b[1;31m---------------------------------------------------------------------------\u001b[0m",
      "\u001b[1;31mNameError\u001b[0m                                 Traceback (most recent call last)",
      "Cell \u001b[1;32mIn[8], line 1\u001b[0m\n\u001b[1;32m----> 1\u001b[0m df_news\n",
      "\u001b[1;31mNameError\u001b[0m: name 'df_news' is not defined"
     ]
    }
   ],
   "source": [
    "df_news"
   ]
  },
  {
   "cell_type": "code",
   "execution_count": 13,
   "id": "8672fbdd-8a97-477f-86b7-efc78d3a7670",
   "metadata": {},
   "outputs": [],
   "source": [
    "df_news=pd.read_csv(r'C:\\Users\\LTIM_10700357\\Downloads\\test_news.csv')\n",
    "df_news_demo = df_news.head(10)"
   ]
  },
  {
   "cell_type": "code",
   "execution_count": 14,
   "id": "e3d6c6f3",
   "metadata": {},
   "outputs": [],
   "source": [
    "# df_final=pd.DataFrame.from_records(fetch_article(df_news_demo))"
   ]
  },
  {
   "cell_type": "code",
   "execution_count": 15,
   "id": "a4812196",
   "metadata": {},
   "outputs": [],
   "source": [
    "df_final = pd.DataFrame()"
   ]
  },
  {
   "cell_type": "code",
   "execution_count": 19,
   "id": "ed5cea3b",
   "metadata": {},
   "outputs": [
    {
     "ename": "SessionNotCreatedException",
     "evalue": "Message: session not created: This version of ChromeDriver only supports Chrome version 125\nCurrent browser version is 129.0.6668.90 with binary path C:\\Program Files\\Google\\Chrome\\Application\\chrome.exe\nStacktrace:\n\tGetHandleVerifier [0x00007FF671A322C2+60002]\n\t(No symbol) [0x00007FF6719ACA59]\n\t(No symbol) [0x00007FF671867EDA]\n\t(No symbol) [0x00007FF6718A6242]\n\t(No symbol) [0x00007FF6718A5418]\n\t(No symbol) [0x00007FF67189F007]\n\t(No symbol) [0x00007FF67189AFA4]\n\t(No symbol) [0x00007FF6718E79A4]\n\t(No symbol) [0x00007FF6718E7000]\n\t(No symbol) [0x00007FF6718DC033]\n\t(No symbol) [0x00007FF6718A9657]\n\t(No symbol) [0x00007FF6718AA251]\n\tGetHandleVerifier [0x00007FF671D43E2D+3278285]\n\tGetHandleVerifier [0x00007FF671D90190+3590448]\n\tGetHandleVerifier [0x00007FF671D861D0+3549552]\n\tGetHandleVerifier [0x00007FF671AE1DE6+779654]\n\t(No symbol) [0x00007FF6719B7ACF]\n\t(No symbol) [0x00007FF6719B2EE4]\n\t(No symbol) [0x00007FF6719B3072]\n\t(No symbol) [0x00007FF6719A2C4F]\n\tBaseThreadInitThunk [0x00007FF88E437614+20]\n\tRtlUserThreadStart [0x00007FF88F6626A1+33]\n",
     "output_type": "error",
     "traceback": [
      "\u001b[1;31m---------------------------------------------------------------------------\u001b[0m",
      "\u001b[1;31mSessionNotCreatedException\u001b[0m                Traceback (most recent call last)",
      "Cell \u001b[1;32mIn[19], line 19\u001b[0m\n\u001b[0;32m     17\u001b[0m \u001b[38;5;66;03m# Initialize WebDriver\u001b[39;00m\n\u001b[0;32m     18\u001b[0m service \u001b[38;5;241m=\u001b[39m Service(webdriver_path)\n\u001b[1;32m---> 19\u001b[0m driver \u001b[38;5;241m=\u001b[39m webdriver\u001b[38;5;241m.\u001b[39mChrome(service\u001b[38;5;241m=\u001b[39mservice, options\u001b[38;5;241m=\u001b[39mchrome_options)\n\u001b[0;32m     21\u001b[0m \u001b[38;5;28;01mtry\u001b[39;00m:\n\u001b[0;32m     22\u001b[0m     driver\u001b[38;5;241m.\u001b[39mget(url)\n",
      "File \u001b[1;32m~\\AppData\\Local\\anaconda3\\Lib\\site-packages\\selenium\\webdriver\\chrome\\webdriver.py:45\u001b[0m, in \u001b[0;36mWebDriver.__init__\u001b[1;34m(self, options, service, keep_alive)\u001b[0m\n\u001b[0;32m     42\u001b[0m service \u001b[38;5;241m=\u001b[39m service \u001b[38;5;28;01mif\u001b[39;00m service \u001b[38;5;28;01melse\u001b[39;00m Service()\n\u001b[0;32m     43\u001b[0m options \u001b[38;5;241m=\u001b[39m options \u001b[38;5;28;01mif\u001b[39;00m options \u001b[38;5;28;01melse\u001b[39;00m Options()\n\u001b[1;32m---> 45\u001b[0m \u001b[38;5;28msuper\u001b[39m()\u001b[38;5;241m.\u001b[39m\u001b[38;5;21m__init__\u001b[39m(\n\u001b[0;32m     46\u001b[0m     browser_name\u001b[38;5;241m=\u001b[39mDesiredCapabilities\u001b[38;5;241m.\u001b[39mCHROME[\u001b[38;5;124m\"\u001b[39m\u001b[38;5;124mbrowserName\u001b[39m\u001b[38;5;124m\"\u001b[39m],\n\u001b[0;32m     47\u001b[0m     vendor_prefix\u001b[38;5;241m=\u001b[39m\u001b[38;5;124m\"\u001b[39m\u001b[38;5;124mgoog\u001b[39m\u001b[38;5;124m\"\u001b[39m,\n\u001b[0;32m     48\u001b[0m     options\u001b[38;5;241m=\u001b[39moptions,\n\u001b[0;32m     49\u001b[0m     service\u001b[38;5;241m=\u001b[39mservice,\n\u001b[0;32m     50\u001b[0m     keep_alive\u001b[38;5;241m=\u001b[39mkeep_alive,\n\u001b[0;32m     51\u001b[0m )\n",
      "File \u001b[1;32m~\\AppData\\Local\\anaconda3\\Lib\\site-packages\\selenium\\webdriver\\chromium\\webdriver.py:66\u001b[0m, in \u001b[0;36mChromiumDriver.__init__\u001b[1;34m(self, browser_name, vendor_prefix, options, service, keep_alive)\u001b[0m\n\u001b[0;32m     57\u001b[0m executor \u001b[38;5;241m=\u001b[39m ChromiumRemoteConnection(\n\u001b[0;32m     58\u001b[0m     remote_server_addr\u001b[38;5;241m=\u001b[39m\u001b[38;5;28mself\u001b[39m\u001b[38;5;241m.\u001b[39mservice\u001b[38;5;241m.\u001b[39mservice_url,\n\u001b[0;32m     59\u001b[0m     browser_name\u001b[38;5;241m=\u001b[39mbrowser_name,\n\u001b[1;32m   (...)\u001b[0m\n\u001b[0;32m     62\u001b[0m     ignore_proxy\u001b[38;5;241m=\u001b[39moptions\u001b[38;5;241m.\u001b[39m_ignore_local_proxy,\n\u001b[0;32m     63\u001b[0m )\n\u001b[0;32m     65\u001b[0m \u001b[38;5;28;01mtry\u001b[39;00m:\n\u001b[1;32m---> 66\u001b[0m     \u001b[38;5;28msuper\u001b[39m()\u001b[38;5;241m.\u001b[39m\u001b[38;5;21m__init__\u001b[39m(command_executor\u001b[38;5;241m=\u001b[39mexecutor, options\u001b[38;5;241m=\u001b[39moptions)\n\u001b[0;32m     67\u001b[0m \u001b[38;5;28;01mexcept\u001b[39;00m \u001b[38;5;167;01mException\u001b[39;00m:\n\u001b[0;32m     68\u001b[0m     \u001b[38;5;28mself\u001b[39m\u001b[38;5;241m.\u001b[39mquit()\n",
      "File \u001b[1;32m~\\AppData\\Local\\anaconda3\\Lib\\site-packages\\selenium\\webdriver\\remote\\webdriver.py:212\u001b[0m, in \u001b[0;36mWebDriver.__init__\u001b[1;34m(self, command_executor, keep_alive, file_detector, options)\u001b[0m\n\u001b[0;32m    210\u001b[0m \u001b[38;5;28mself\u001b[39m\u001b[38;5;241m.\u001b[39m_authenticator_id \u001b[38;5;241m=\u001b[39m \u001b[38;5;28;01mNone\u001b[39;00m\n\u001b[0;32m    211\u001b[0m \u001b[38;5;28mself\u001b[39m\u001b[38;5;241m.\u001b[39mstart_client()\n\u001b[1;32m--> 212\u001b[0m \u001b[38;5;28mself\u001b[39m\u001b[38;5;241m.\u001b[39mstart_session(capabilities)\n\u001b[0;32m    214\u001b[0m \u001b[38;5;28mself\u001b[39m\u001b[38;5;241m.\u001b[39m_websocket_connection \u001b[38;5;241m=\u001b[39m \u001b[38;5;28;01mNone\u001b[39;00m\n\u001b[0;32m    215\u001b[0m \u001b[38;5;28mself\u001b[39m\u001b[38;5;241m.\u001b[39m_script \u001b[38;5;241m=\u001b[39m \u001b[38;5;28;01mNone\u001b[39;00m\n",
      "File \u001b[1;32m~\\AppData\\Local\\anaconda3\\Lib\\site-packages\\selenium\\webdriver\\remote\\webdriver.py:299\u001b[0m, in \u001b[0;36mWebDriver.start_session\u001b[1;34m(self, capabilities)\u001b[0m\n\u001b[0;32m    292\u001b[0m \u001b[38;5;250m\u001b[39m\u001b[38;5;124;03m\"\"\"Creates a new session with the desired capabilities.\u001b[39;00m\n\u001b[0;32m    293\u001b[0m \n\u001b[0;32m    294\u001b[0m \u001b[38;5;124;03m:Args:\u001b[39;00m\n\u001b[0;32m    295\u001b[0m \u001b[38;5;124;03m - capabilities - a capabilities dict to start the session with.\u001b[39;00m\n\u001b[0;32m    296\u001b[0m \u001b[38;5;124;03m\"\"\"\u001b[39;00m\n\u001b[0;32m    298\u001b[0m caps \u001b[38;5;241m=\u001b[39m _create_caps(capabilities)\n\u001b[1;32m--> 299\u001b[0m response \u001b[38;5;241m=\u001b[39m \u001b[38;5;28mself\u001b[39m\u001b[38;5;241m.\u001b[39mexecute(Command\u001b[38;5;241m.\u001b[39mNEW_SESSION, caps)[\u001b[38;5;124m\"\u001b[39m\u001b[38;5;124mvalue\u001b[39m\u001b[38;5;124m\"\u001b[39m]\n\u001b[0;32m    300\u001b[0m \u001b[38;5;28mself\u001b[39m\u001b[38;5;241m.\u001b[39msession_id \u001b[38;5;241m=\u001b[39m response\u001b[38;5;241m.\u001b[39mget(\u001b[38;5;124m\"\u001b[39m\u001b[38;5;124msessionId\u001b[39m\u001b[38;5;124m\"\u001b[39m)\n\u001b[0;32m    301\u001b[0m \u001b[38;5;28mself\u001b[39m\u001b[38;5;241m.\u001b[39mcaps \u001b[38;5;241m=\u001b[39m response\u001b[38;5;241m.\u001b[39mget(\u001b[38;5;124m\"\u001b[39m\u001b[38;5;124mcapabilities\u001b[39m\u001b[38;5;124m\"\u001b[39m)\n",
      "File \u001b[1;32m~\\AppData\\Local\\anaconda3\\Lib\\site-packages\\selenium\\webdriver\\remote\\webdriver.py:354\u001b[0m, in \u001b[0;36mWebDriver.execute\u001b[1;34m(self, driver_command, params)\u001b[0m\n\u001b[0;32m    352\u001b[0m response \u001b[38;5;241m=\u001b[39m \u001b[38;5;28mself\u001b[39m\u001b[38;5;241m.\u001b[39mcommand_executor\u001b[38;5;241m.\u001b[39mexecute(driver_command, params)\n\u001b[0;32m    353\u001b[0m \u001b[38;5;28;01mif\u001b[39;00m response:\n\u001b[1;32m--> 354\u001b[0m     \u001b[38;5;28mself\u001b[39m\u001b[38;5;241m.\u001b[39merror_handler\u001b[38;5;241m.\u001b[39mcheck_response(response)\n\u001b[0;32m    355\u001b[0m     response[\u001b[38;5;124m\"\u001b[39m\u001b[38;5;124mvalue\u001b[39m\u001b[38;5;124m\"\u001b[39m] \u001b[38;5;241m=\u001b[39m \u001b[38;5;28mself\u001b[39m\u001b[38;5;241m.\u001b[39m_unwrap_value(response\u001b[38;5;241m.\u001b[39mget(\u001b[38;5;124m\"\u001b[39m\u001b[38;5;124mvalue\u001b[39m\u001b[38;5;124m\"\u001b[39m, \u001b[38;5;28;01mNone\u001b[39;00m))\n\u001b[0;32m    356\u001b[0m     \u001b[38;5;28;01mreturn\u001b[39;00m response\n",
      "File \u001b[1;32m~\\AppData\\Local\\anaconda3\\Lib\\site-packages\\selenium\\webdriver\\remote\\errorhandler.py:229\u001b[0m, in \u001b[0;36mErrorHandler.check_response\u001b[1;34m(self, response)\u001b[0m\n\u001b[0;32m    227\u001b[0m         alert_text \u001b[38;5;241m=\u001b[39m value[\u001b[38;5;124m\"\u001b[39m\u001b[38;5;124malert\u001b[39m\u001b[38;5;124m\"\u001b[39m]\u001b[38;5;241m.\u001b[39mget(\u001b[38;5;124m\"\u001b[39m\u001b[38;5;124mtext\u001b[39m\u001b[38;5;124m\"\u001b[39m)\n\u001b[0;32m    228\u001b[0m     \u001b[38;5;28;01mraise\u001b[39;00m exception_class(message, screen, stacktrace, alert_text)  \u001b[38;5;66;03m# type: ignore[call-arg]  # mypy is not smart enough here\u001b[39;00m\n\u001b[1;32m--> 229\u001b[0m \u001b[38;5;28;01mraise\u001b[39;00m exception_class(message, screen, stacktrace)\n",
      "\u001b[1;31mSessionNotCreatedException\u001b[0m: Message: session not created: This version of ChromeDriver only supports Chrome version 125\nCurrent browser version is 129.0.6668.90 with binary path C:\\Program Files\\Google\\Chrome\\Application\\chrome.exe\nStacktrace:\n\tGetHandleVerifier [0x00007FF671A322C2+60002]\n\t(No symbol) [0x00007FF6719ACA59]\n\t(No symbol) [0x00007FF671867EDA]\n\t(No symbol) [0x00007FF6718A6242]\n\t(No symbol) [0x00007FF6718A5418]\n\t(No symbol) [0x00007FF67189F007]\n\t(No symbol) [0x00007FF67189AFA4]\n\t(No symbol) [0x00007FF6718E79A4]\n\t(No symbol) [0x00007FF6718E7000]\n\t(No symbol) [0x00007FF6718DC033]\n\t(No symbol) [0x00007FF6718A9657]\n\t(No symbol) [0x00007FF6718AA251]\n\tGetHandleVerifier [0x00007FF671D43E2D+3278285]\n\tGetHandleVerifier [0x00007FF671D90190+3590448]\n\tGetHandleVerifier [0x00007FF671D861D0+3549552]\n\tGetHandleVerifier [0x00007FF671AE1DE6+779654]\n\t(No symbol) [0x00007FF6719B7ACF]\n\t(No symbol) [0x00007FF6719B2EE4]\n\t(No symbol) [0x00007FF6719B3072]\n\t(No symbol) [0x00007FF6719A2C4F]\n\tBaseThreadInitThunk [0x00007FF88E437614+20]\n\tRtlUserThreadStart [0x00007FF88F6626A1+33]\n"
     ]
    }
   ],
   "source": [
    "import json\n",
    "from time import sleep\n",
    "from random import randint\n",
    "from selenium import webdriver\n",
    "from selenium.webdriver.chrome.service import Service\n",
    "from selenium.webdriver.chrome.options import Options\n",
    "from bs4 import BeautifulSoup\n",
    "\n",
    "article_body1 = 'No Records Extracted'\n",
    "url='https://news.google.com/rss/articles/CBMitAFBVV95cUxQSm5KTktQVGs5eTBTYkdmR2FwNHQ4eEVwbGpiclRxWno4cS1FNDlqWXJTQlVqUXB4RktPTG9IZl94aTRaNlZ3QzlCSWFwVW9jeUdTRTlIcGdjQlptSDVPWkJsQV9iTERRaWw5TGhaSXRmOU41eXF3LTZRZ2NSZmE0MEl2Mk16RDFHenk4LUI4Z3d4bTMySzBrMEdxUGhWaHNlaWJRazBJRllwa1lTRmFJRjhGZF_SAbwBQVVfeXFMTXdhbHdSSXU4eVhCakZvMW5sUWRjdTd1OHBrS2FWandsb2tFN1hCVV94Nk5yZDBQelM1Wjk4clJiNUQ0eEdSRmtYaGQzcnFsTXh2d2Q4VndPLUtVWXhnWjFvckZtb0NNY2g5dnpxbnh0U2Z2cGhobnVzZVNBdkVYck9KaEctRTVCamw0ZEpkWkFoZEo0V1A4WVI5bWQ1Z3NBMnhneVk3SDZsOUhLUlhmUUhHdV9FaTJPTWh3TTg?oc=5'\n",
    "webdriver_path = r'C:\\Users\\LTIM_10700357\\Downloads\\chromedriver-win64 (1)\\chromedriver-win64\\chromedriver.exe'  # Adjust this path\n",
    "# Set up Chrome options\n",
    "chrome_options = Options()\n",
    "chrome_options.add_argument(\"--headless\")  # Run in headless mode\n",
    "chrome_options.add_argument(\"--no-sandbox\")  # Bypass OS security model\n",
    "chrome_options.add_argument(\"--disable-dev-shm-usage\")  # Overcome limited resource problems\n",
    "# Initialize WebDriver\n",
    "service = Service(webdriver_path)\n",
    "driver = webdriver.Chrome(service=service, options=chrome_options)\n",
    "\n",
    "try:\n",
    "    driver.get(url)\n",
    "#        sleep(randint(10, 100))  # Random delay to mimic human behavior\n",
    "    \n",
    "    soup = BeautifulSoup(driver.page_source, 'html.parser')\n",
    "    scripts = soup.find_all('script', type='application/ld+json')\n",
    "    \n",
    "    for script in scripts:\n",
    "        if script:\n",
    "            json_ld_data = script.string.strip().replace('\\n', '').replace('  ', '')\n",
    "            try:\n",
    "                data = json.loads(json_ld_data)\n",
    "                if data.get('@type') == 'NewsArticle':\n",
    "                    article_body = data.get('articleBody', article_body1)\n",
    "                    return article_body  # Return immediately if article body is found\n",
    "            except json.JSONDecodeError as e:\n",
    "                print(f'Error decoding JSON: {e}')\n",
    "                print('Problematic JSON Data:', json_ld_data)\n",
    "except Exception as e:\n",
    "    print(f\"An error occurred: {e}\")\n",
    "\n",
    "finally:\n",
    "        driver.quit()  # Ensure the driver quits regardless of success or failure\n"
   ]
  },
  {
   "cell_type": "code",
   "execution_count": 17,
   "id": "197fbe7a",
   "metadata": {},
   "outputs": [
    {
     "name": "stdout",
     "output_type": "stream",
     "text": [
      "https://news.google.com/rss/articles/CBMitAFBVV95cUxQSm5KTktQVGs5eTBTYkdmR2FwNHQ4eEVwbGpiclRxWno4cS1FNDlqWXJTQlVqUXB4RktPTG9IZl94aTRaNlZ3QzlCSWFwVW9jeUdTRTlIcGdjQlptSDVPWkJsQV9iTERRaWw5TGhaSXRmOU41eXF3LTZRZ2NSZmE0MEl2Mk16RDFHenk4LUI4Z3d4bTMySzBrMEdxUGhWaHNlaWJRazBJRllwa1lTRmFJRjhGZF_SAbwBQVVfeXFMTXdhbHdSSXU4eVhCakZvMW5sUWRjdTd1OHBrS2FWandsb2tFN1hCVV94Nk5yZDBQelM1Wjk4clJiNUQ0eEdSRmtYaGQzcnFsTXh2d2Q4VndPLUtVWXhnWjFvckZtb0NNY2g5dnpxbnh0U2Z2cGhobnVzZVNBdkVYck9KaEctRTVCamw0ZEpkWkFoZEo0V1A4WVI5bWQ1Z3NBMnhneVk3SDZsOUhLUlhmUUhHdV9FaTJPTWh3TTg?oc=5\n",
      "https://news.google.com/rss/articles/CBMi8AFBVV95cUxNZGZhNkN0dHhwMzgzcWd6Y2dZZFBKOWliTUxzS2tPaUtFYmFzWWlwckZZS2lRa29qUldpTzRTYkpOWTctNnFRaV9PazlZcnJoOW5oTlBXbHE2UzhGb3RmVFprdG5zSFNBY0N2eDQtTjRjM28wNEkzZjhsZXQwQUZfalpCZlJWRmd6MXZMZ01vZjZBSmFsNTAzek1JQ3ZMMGRHMG5pYUtrcE1fM1RJRi1QOHF1RnhBTDRYTjI5dmVTTk9wVXVOdUZWaERNbVVjTU5Kek42UEZMXzBTZG1zbzIzZ0lIUnQ4Mk9kUjNyZTNFemzSAfYBQVVfeXFMTXBWWk9aR25vWHZmYjdSMEdiMjBXWmFmNUk5SjBwWHdITGZjS0xLLTM5cVh2RkQ3d0V3ODd4QlNmdlZnRzVUMGRCQ2dBSVR6QlluaV9mYzF4NG1TMEFTNlAwZjVudWI0WmJSaTVQTFRRaVpKY2RSc05pS2w4MmkwWld2UWVYa2NLdG10SWhFNUcwVmh2aHFqcnUxRjVOWV9FVEpMUndDUnByUFhHM1hDT2czT0o4Z0tkaTVmeG9zWUpPVUk3VEhwcXJrNjlLVGdnaFo3V2N3MlRZWDljTFhGVmNBanI3S3F1cG5ILXdFNVpKZHpIUGhn?oc=5\n",
      "https://news.google.com/rss/articles/CBMixwFBVV95cUxQcmVTZlR6LW5QdGRHLWFSeU93N1M1Z2UyWUVJOXhGQjBaNUtHOVBXUjFLa2F6V3VVZWRfTXF1ZlRKSzF4b20wZGd5U09Wa0NUZDRDX2VLQnpTX2tZQXgtaFl0TDJCd3BaMkdaUmdzYUNsUTAzMFo5dFFEV1o1QkZacFRoeEt4ZXNiNUNUenI2WWo2ZnhTU3dtYUtuMk41QWNOUXBlWE92QjRyMnA3ck11ZmRxZnZvcThkbllDc21RN1MzVFJSWlNv0gHMAUFVX3lxTFBMRmFNamFodHFFR1ExcnVDc1FjN25zRmtrVWV0cFpZS24zc2ZXdEZWUHZYZWZjMkxCMlVkaDI4VFBXVEtyLUhPMlBFY0VYVkVMYVhPbll6WlEzN1NWRUhJelB4aXhWck5hX2FyWU50eXdVbXU1czlMV25UVl9XSWVVcnRfVHhhaFY4T3lzTlNkSUtkVDVaVzlraDR6cUd4OGFuOVBfcVJWSWRoUHcwUHRnN1h0VkxENWIyUFA3THNSVG51STc1Zml1ZzhSdQ?oc=5\n",
      "https://news.google.com/rss/articles/CBMihwJBVV95cUxORDJWT18wVS02VDJNUXNSUnR2UkZweUxhd1BwRHBsMVE5X1E0VjlEbkNkcGRfaVM5TEZEdGhmZmIyd21uVTZleTdUQjMwYUhRR092b0hvd19VOFhqSVRyOVN2cUZnaDZIejhORGNWSWxzd05RU0l3U2JmcHZCZkU0Y3lCa2xHdTRiSE5PQ19vWXAyN0xkQk44ZzNHQVNwMnZWc1JmSnZydzJqd1l0NzhGclJRZ19ySElPdTdicVB4cXJPNDlkTElkVC00Nkx6TnFKS0hUalYzNGxwSHo4VEZHOVFZcFMtcWNXY2VEczJZb2xNUHk3NXRwYllvMUNURmF6bmtwTWRrWQ?oc=5\n",
      "https://news.google.com/rss/articles/CBMiqAFBVV95cUxNMnYxYzY2aWdIU1gzOXByTGdEQVpkdDZPVTRXV1lvVXcxT01XVVRSWWNFeTJLTGtxdWZiTmg1MW5BTWlDajFMLUxla2ZsRThIaS0wUnJ0VFZ5MjFQODlUM2V6RWlJQlprZFlHSUo5NHhNZTdjdUVQeE5pMl82V3I3ckZqUld4VkdmRE1zcDZZRHdfU05NcGpaN0NuTEEyR245ODR1bWp0Wlk?oc=5\n",
      "https://news.google.com/rss/articles/CBMipgFBVV95cUxOb3hJb3dqemxMVEEzbXR1WU5SckxtaWYwN3BfNVpSRE96d3l0YUdXd1BaRVo2d3FCaHlUNUpRY2tReDB0ejI4TzhJVVluemFIbG8tbm82bGtxTWdpd1NIMHFVdUVOWWROQjJ6alNia1owd2pvMXc1QlpBRlpKTERaV04wZ1NDTW5JRFhSRVlJeHlhNmdLWkRpT3VLbkwzVGJTOGNoV3BR0gGjAUFVX3lxTE54OUlxMkpwWDZTcHZ5MHVEZTQ2WllnMURab0ZycXNfakZJaTBZYnlqRGR1OUx6aUotTEtIOVE5dXRUZ1dVb19tTThpX0FHSU9qVngtOXJYNUdnLW9MRTdKWjBXVXRVQVluVDRNQm5VX3B2S2hZVkpXWG5JZ3BOQlJsUk92NE1NN2s2VGw5RC15c2cxNXBSSE9lR1lWNl9sVjltRGM?oc=5\n",
      "https://news.google.com/rss/articles/CBMitwFBVV95cUxPQkRKZlJPdGdTVmVpd0dramhCakMwZWs3c2NYcENlZzcwSnc3bEFWX0M2N3E5WHZaeUVKYTRRZXBRd2F4Tk41RmRKZ0JNTlZCLVI1ekQ4X2hrZ2w2NGY3VmlWaHMyX1lESU9jMC1VOUZsS0t0ODhrb1VKN2xoUGZNSEpGcThhaTNkSGc5UGhoUGM0SGJsRTVlZ2lyQmo4UmUzcmdRSWp1NGgzTjJZWTdfcDEydE5oMDDSAbwBQVVfeXFMUDlacHVGRWt4YzJicnZZaFRwYmFGVHR2OFhuMFBnN0JvS1czamdubGY2d04zZUVOVUxGYlh3TVBKdHNDMFBYTElfRF9JaHh1aGFaZG4xSWNWNGhuc2ROUUFHRkpvT1NZRzdLZ19RQUlJWk5LWUxnZl95VWlpZm54RjRlOFNvMUxySTA0ckZUTUxVckI1bVFkQzJNaDJ5SnhNYk8ta1J2aVIxNnJlRl9TRElhMU5BTGl1Ui1Jemc?oc=5\n",
      "https://news.google.com/rss/articles/CBMisAFBVV95cUxNSjRKSWRHTjhhSGdwVW52V1NYdTFrWFdLdVc3RVZtaGZ6SXBYTzRlaVNsTk9ZTmN5MTVWMEJ4WDlvOEtIVWdHS1FlQVBVWHNQX2FLVnlvS0tBZ0VobF9sMTV4MkdTeEFFYmNDbVNpclFGYnJyV1Zxd0lvMEZnYXZoUVVQOFRNNlBKZllCNEZXNFowVkF5VHpkV3J5TnhWN2RCUzd6bGNoRDV5STltakJ5adIBuAFBVV95cUxPcXAwbTVTeEVNcUwwRGFiLUVWWDNiV1NvQkVnUTE2Y1dZbFlFZEtYczl3UFdvd0dsWS11MFd6MzJuYmpKTkYwZVZNcG5xY1lHQ05YYWs4SVNaN2pUTEZOcmM3MEFodFJJbkNobGlTYVd1d3hpNWNLMS1LLXVhUndfbERLUW1yNy1KQVA3Vl9fNU9MWTdrRjZIeWtGVUhFLVozdDFOZHpRWTczM2ZrbG5XT0VYWGtVMFFF?oc=5\n",
      "https://news.google.com/rss/articles/CBMitwFBVV95cUxNNDJjSms1S2tuTVUxX0o2OE1CT1o0Tk92T0Y0V2Z5Tlp6TEJkRk5tNmI2dGlPeWdIdFNPSVdJVzI2eVdDVW1qRXV2eEp6TVFzejFhTkxVM3dLMmoxaDdJMEN0MWtCRHVGVWZOOVE3RVhnR1ZEOUo0NGxlLWw3N0JweG1HdkRTSG1jN0pRdjQzMmRoZ1kyQXhlSkgtODh3dW5mWU9EUnU3RmdFQlNwUU9uUXRRWlhnVjTSAbwBQVVfeXFMTU5oc0diUEVtRFlyV2JoVVloSFh0aWI5eEJqZDNNWGFpRkU3MWplY1BSNW1YekZRV1pFVW9RODZ6Z3lUMU8tMmVVUDk1bXBISy1SM3FoM3RTb3hIcy12c2hCa3Z2MUwzZFBjNGxBbS00Njh5c0lfMklrRlhJb2JmTkQ1WW9uQjFWQVZDZFNaT3RvZktjWVdCMGRUWENLY21oMW5rQUdPTkI5MEZfRmVINm5jTWV1MnhKbnd4VUk?oc=5\n",
      "https://news.google.com/rss/articles/CBMitwFBVV95cUxORE5SbWJFUDh5cVFtOFVMaXFpc0dZSkJ2MzgzMUliUDQ3ZURYY3F1XzlNc0w1NlVhYnpyaVRoTUhfbV9iLXg3bDBtZ1QtdWtxVjh5WjdYbmdPZlZEalltNkh5Y1p2c0JwMmNINWNNWElMb1lHcW4yTUd5SHpHaDRHZE13NjQ4NG55YmpCVzZMdl85VXpVbXo2R2RqMWdlUHktMkNOOGd5Z2drX1QxbHRsb1pkQmpQMlnSAbwBQVVfeXFMUFhIaG9hUlR2TWRTWWJDc2VMVUtWNXNUbklHalRtbEF2YXh6QnJZNFp2NTQtcFJ0WFNMT0FnMlhCWmhtNU9rbzF3OWJBR1l6dWt2TEFhQ2M4TklDLVY0d2h3aHY2VDMtUzFHcTQ2YTYzUEFObXRNWlp1RGQ1WXRSTUw5Tk5kcnBvRUN0dGo1SDRYX3pEVGdKYTAxQTlPOVo1ek1pazF4NEJISjZkSkFjakN4elN6WC1aQ1lFa3Y?oc=5\n"
     ]
    }
   ],
   "source": [
    "for k in df_news_demo['link']:\n",
    "    print(k)"
   ]
  },
  {
   "cell_type": "code",
   "execution_count": null,
   "id": "d121c249",
   "metadata": {},
   "outputs": [],
   "source": []
  }
 ],
 "metadata": {
  "kernelspec": {
   "display_name": "Python 3 (ipykernel)",
   "language": "python",
   "name": "python3"
  },
  "language_info": {
   "codemirror_mode": {
    "name": "ipython",
    "version": 3
   },
   "file_extension": ".py",
   "mimetype": "text/x-python",
   "name": "python",
   "nbconvert_exporter": "python",
   "pygments_lexer": "ipython3",
   "version": "3.11.5"
  }
 },
 "nbformat": 4,
 "nbformat_minor": 5
}
