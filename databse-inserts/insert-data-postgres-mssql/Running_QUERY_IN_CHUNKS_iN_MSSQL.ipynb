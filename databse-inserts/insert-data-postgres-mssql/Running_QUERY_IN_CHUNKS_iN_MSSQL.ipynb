{
 "cells": [
  {
   "cell_type": "code",
   "execution_count": 10,
   "id": "6479a4a5-a239-4843-ad37-009c4c6ad936",
   "metadata": {},
   "outputs": [],
   "source": [
    "import sqlalchemy\n",
    "from sqlalchemy import create_engine\n",
    "from urllib.parse import quote \n",
    "from datetime import datetime\n",
    "from sqlalchemy.exc import OperationalError\n",
    "import pandas as pd\n",
    "from urllib.parse import quote\n",
    "from dateutil.relativedelta import relativedelta\n",
    "import pyodbc\n",
    "import tqdm\n",
    "import openpyxl\n",
    "from openpyxl import load_workbook\n",
    "import os\n",
    "from tqdm import tqdm"
   ]
  },
  {
   "cell_type": "code",
   "execution_count": 11,
   "id": "78bd550c-57eb-46c6-9cae-52672b402335",
   "metadata": {},
   "outputs": [],
   "source": [
    "### Run Query in chunks\n",
    "\n",
    "#***Yield chunks\n",
    "def chunks(lst, n):\n",
    "    \"\"\"Yield successive n-sized chunks from lst.\"\"\"\n",
    "    for i in range(0, len(lst), n):\n",
    "        yield lst[i:i + n]\n",
    "\n",
    "#*** Remove brackets from list\n",
    "def remove_list_brackets(list_):\n",
    "    str_no_list = str(list_)\n",
    "    str_no_list = str_no_list.replace('[','(').replace(']',')')\n",
    "    return str_no_list"
   ]
  },
  {
   "cell_type": "code",
   "execution_count": 12,
   "id": "246dbc94-da8d-45c5-8814-03be2097dbf7",
   "metadata": {},
   "outputs": [],
   "source": [
    "#**** Engine\n",
    "#**** Engine\n",
    "engine_=sqlalchemy.create_engine('mssql+pyodbc://SAL_User01:%s@172.16.22.25:1433/FINCORE_BRIDGE_DB?driver=ODBC+Driver+17+for+SQL+Server' % quote('Sal@123'))\n"
   ]
  },
  {
   "cell_type": "code",
   "execution_count": 13,
   "id": "f0b438b1-a12a-41e9-b693-69d5ad24f210",
   "metadata": {},
   "outputs": [
    {
     "data": {
      "text/plain": [
       "'C:\\\\Users\\\\LTIM_10737710'"
      ]
     },
     "execution_count": 13,
     "metadata": {},
     "output_type": "execute_result"
    }
   ],
   "source": [
    "pwd"
   ]
  },
  {
   "cell_type": "code",
   "execution_count": 14,
   "id": "20729aa7-786b-4cd2-aff7-ac156e3759fc",
   "metadata": {},
   "outputs": [],
   "source": [
    "pans_list = pd.read_excel(r\"\\\\172.20.1.68\\shared\\abhinav\\pans_list_pak_related.xlsx\")"
   ]
  },
  {
   "cell_type": "code",
   "execution_count": 15,
   "id": "40529215-e60e-4035-b943-ac5e3c47640e",
   "metadata": {},
   "outputs": [
    {
     "data": {
      "text/html": [
       "<div>\n",
       "<style scoped>\n",
       "    .dataframe tbody tr th:only-of-type {\n",
       "        vertical-align: middle;\n",
       "    }\n",
       "\n",
       "    .dataframe tbody tr th {\n",
       "        vertical-align: top;\n",
       "    }\n",
       "\n",
       "    .dataframe thead th {\n",
       "        text-align: right;\n",
       "    }\n",
       "</style>\n",
       "<table border=\"1\" class=\"dataframe\">\n",
       "  <thead>\n",
       "    <tr style=\"text-align: right;\">\n",
       "      <th></th>\n",
       "      <th>pan</th>\n",
       "    </tr>\n",
       "  </thead>\n",
       "  <tbody>\n",
       "    <tr>\n",
       "      <th>0</th>\n",
       "      <td>AAICC8794L</td>\n",
       "    </tr>\n",
       "    <tr>\n",
       "      <th>1</th>\n",
       "      <td>CZXPA0145E</td>\n",
       "    </tr>\n",
       "  </tbody>\n",
       "</table>\n",
       "</div>"
      ],
      "text/plain": [
       "          pan\n",
       "0  AAICC8794L\n",
       "1  CZXPA0145E"
      ]
     },
     "execution_count": 15,
     "metadata": {},
     "output_type": "execute_result"
    }
   ],
   "source": [
    "pans_list.head(2)"
   ]
  },
  {
   "cell_type": "code",
   "execution_count": 16,
   "id": "5839551e-5de0-4960-b5a2-e41ca5eba6c4",
   "metadata": {},
   "outputs": [
    {
     "data": {
      "text/plain": [
       "4706"
      ]
     },
     "execution_count": 16,
     "metadata": {},
     "output_type": "execute_result"
    }
   ],
   "source": [
    "len(pans_list)"
   ]
  },
  {
   "cell_type": "code",
   "execution_count": 17,
   "id": "d3529757-3fcf-4473-9ce3-58048a393655",
   "metadata": {},
   "outputs": [],
   "source": [
    "\n",
    "def query_run(query,engine_,path_to_file, file_name,mode = 'a'):\n",
    "    '''\n",
    "    **query**: ('str') Enter the query \n",
    "    **engine_** : ('str') the function creates a connection with postgres server 172.16.22.15:5432/postgres as default,\n",
    "              other engines can be specified here as well\n",
    "    **mode**: ('str') mode is append by default, can be changed to simply write as well\n",
    "    **path_to_file**: ('str') path where the file to be saved\n",
    "    **filename**: ('str') name of the file, defaults get saved as csv\n",
    "    '''\n",
    "    if mode == 'a':\n",
    "        try:\n",
    "            print('--Engine Running--')\n",
    "            engine_ = engine_\n",
    "            conn = engine_.connect()\n",
    "            results = pd.read_sql(query,conn)\n",
    "            conn.close()\n",
    "            engine_.dispose()\n",
    "            print('--Engine Closing--')\n",
    "            print('Results_appending')\n",
    "            file_name = f'{file_name}.csv'\n",
    "            path = os.path.join(path_to_file,file_name)\n",
    "            results.to_csv(path, index = False, mode = mode, header= not os.path.exists(path))\n",
    "        except OperationalError as oe:\n",
    "            time.sleep(300)\n",
    "            print('Reconnecting with Server')\n",
    "            print('--Engine Running--')\n",
    "            engine_ = engine_\n",
    "            conn = engine_.connect()\n",
    "            results = pd.read_sql(query,conn)\n",
    "            conn.close()\n",
    "            engine_.dispose()\n",
    "            print('--Engine Closing--')\n",
    "            print('Results_appending')\n",
    "            filename = f'{file_name}.csv'\n",
    "            path = os.path.join(path_to_file,file_name)\n",
    "            results.to_csv(path, index = False, mode = mode, header= not os.path.exists(path))\n",
    "    else:\n",
    "        print('--Engine Running--')\n",
    "        engine_ = engine_\n",
    "        conn = engine_.connect()\n",
    "        results = pd.read_sql(query,engine_)\n",
    "        conn.close()\n",
    "        engine_.dispose()\n",
    "        print('--Engine Closing--')\n",
    "        print('Results_appending')\n",
    "        file_name = f'{file_name}.csv'\n",
    "        path = os.path.join(path_to_file,file_name)\n",
    "        results.to_csv(path, index = False, mode = mode)"
   ]
  },
  {
   "cell_type": "code",
   "execution_count": 18,
   "id": "c0decb11-65c0-4cdd-8a98-054ff131fa41",
   "metadata": {},
   "outputs": [],
   "source": [
    "#**** Run query in chunks\n",
    "#reid_acc_ts_final_list = list(reid_acc_ts_final['reid_acc'].unique())\n",
    "str_data_pans = list(pans_list['pan'].unique())\n",
    "#str_data_pans"
   ]
  },
  {
   "cell_type": "code",
   "execution_count": null,
   "id": "759bab17-9519-4be2-9683-7a2b55f4726d",
   "metadata": {
    "scrolled": true
   },
   "outputs": [
    {
     "name": "stderr",
     "output_type": "stream",
     "text": [
      "\r",
      "  0%|                                                                                           | 0/95 [00:00<?, ?it/s]"
     ]
    },
    {
     "name": "stdout",
     "output_type": "stream",
     "text": [
      "--Engine Running--\n"
     ]
    }
   ],
   "source": [
    "\n",
    "for chunk in tqdm(list(chunks(str_data_pans,50))):\n",
    "    bracket = remove_list_brackets(chunk)\n",
    "    query = f'''  with cte2 as (\n",
    "        select batchid,pd.reportid, pd.ucic, PAN, concat(firstname,' ', middlename,' ',lastname) personname, cast(occupationid as nvarchar) as occupation,\n",
    "        concat(pd.primaryAddressLine1,' | ',pd.primaryLocality) as address,primaryPinCode as person_Pincode , pd.nationality , pd.telephoneNumber as telephone, pd.mobileNumber as mobile, email from [FINCORE_BRIDGE_DB].[FINCORE_BRIDGE].[fingate_PersonDetail] (nolock) pd \n",
    "        where  migrated_flag is null  and pd.pan in {bracket} --enter PAN here   \n",
    "        union\n",
    "        select batchid, ed.reportid, ed.ucic, PAN, ed.name as personname ,linesOfBusiness as occupation, \n",
    "        concat(ed.addressLine1,' | ',ed.locality) as address, pinCode as person_Pincode ,ed.regCountry as nationality, telephoneNumber, mobileNumber, emailId\n",
    "        from [FINCORE_BRIDGE_DB].[FINCORE_BRIDGE].[fingate_EntityDetail] (nolock) ed where ed.pan in {bracket} --enter PAN here\n",
    "    ),\n",
    "    cte3 as ( \n",
    "        select reportid, ucic  from( select reportid, ucic, count(distinct UCIC) pan_count from cte2 group by reportid, ucic)z where pan_count =1),\n",
    "    cte4 as (\n",
    "        select * from cte2 where concat(reportid, ucic) in (select concat(reportid, ucic) from cte3))\n",
    "\n",
    "    select distinct  coalesce([oldREId],[newREId]) as fiureid,trim(upper(re.name)) as entityname, concat('A-',ad.accountNumber)accountnumber,concat('ID-',cast([Fiu_Batch_Id] as varchar)) batchid,r.Report_Id as reportsernum,\n",
    "    cte4.pan,personname, address as commaddress,concat('M-',mobile)mobile,email,\n",
    "    Report_Type as reporttype,  gosTextNarration groundsofsusp,[gosTag2] sourceofalert,addressline1 as branchaddress , ah.title as relationTypeId from cte4\n",
    "    inner join [Fincore_Bridge_DB].[FINCORE_BRIDGE].[Cps_Report_Details] r on r.Report_Id =reportid AND REPORT_TYPE = 'STR'  and r.report_status='Pass' \n",
    "\n",
    "    inner join [DATAHUB_DB].[FIUMetaHub].[finnet_ReportingEntity] re (nolock) on r.[Re_Id] = re.id_\n",
    "    inner join [FINCORE_BRIDGE_DB].[FINCORE_BRIDGE].[fingate_AccountDetail] ad on r.Report_Id=ad.reportid\n",
    "    inner join [FINCORE_BRIDGE_DB].[FINCORE_BRIDGE].[fingate_AccountPerson] ap on ap.accountNo=ad.accountNumber and ap.reportid=ad.reportId and cte4.reportid=ap.reportid and cte4.ucic=ap.ucic \n",
    "    left join [DATAHUB_DB].[FIUMetaHub].[finnet_AcHolderType] ah on ah.id_=ap.relationTypeId\n",
    "    left join [DATAHUB_DB].[FIUMetaHub].[finnet_ReBranch] reb on ad.branchCode=reb.branchId and reb.reid=r.Re_Id\n",
    "    left join [DATAHUB_DB].[FIUMetaHub].[finnet_Address] adr on reb.id_ = adr.parentid and adr.parentclass = 'REBranch' and re.active_=1\n",
    "    left join [FINCORE_BRIDGE_DB].[FINCORE_BRIDGE].[fingate_Gos] (nolock) gs on r.Report_Id=gs.reportId\n",
    "    left join [FINCORE_BRIDGE_DB].[FINCORE_BRIDGE].[fingate_KycSummary] kyc on r.Report_Id=kyc.reportId '''\n",
    "    #print(query)\n",
    "    #break\n",
    "    engine_=sqlalchemy.create_engine('mssql+pyodbc://SAL_User01:%s@172.16.22.25:1433/FINCORE_BRIDGE_DB?driver=ODBC+Driver+17+for+SQL+Server' % quote('Sal@123'))\n",
    "    path_to_file = 'C:/Users/LTIM_10737710/Downloads/'\n",
    "    file_name = 'str_related_pans_dump_pak'\n",
    "    query_run(query,engine_,path_to_file,file_name)"
   ]
  },
  {
   "cell_type": "code",
   "execution_count": null,
   "id": "b7f04107-a174-4319-ad7c-e8c166ccd5fb",
   "metadata": {},
   "outputs": [],
   "source": [
    "rid_1 = pd.read_excel('reportids_j&k_branch_state_202503.xlsx',sheet_name='NTR')"
   ]
  },
  {
   "cell_type": "code",
   "execution_count": null,
   "id": "10e045ee-5d49-42fe-8014-ca25387c264e",
   "metadata": {},
   "outputs": [],
   "source": [
    "#**** Run query in chunks\n",
    "#reid_acc_ts_final_list = list(reid_acc_ts_final['reid_acc'].unique())\n",
    "str_data_pans = list(rid['report_id'].unique())\n",
    "\n",
    "for chunk in tqdm(list(chunks(str_data_pans,1000))):\n",
    "    bracket = remove_list_brackets(chunk)\n",
    "    query = f'''  with cte1 as (\n",
    "        select Re_Id ,pd.batchid,Fiu_Batch_Id, left(Fiu_Batch_Id,6) yr_mon,pd.reportid, r.REPORT_id , pd.ucic,trim(accountno) as accountnumber,PAN, concat(firstname,' ', middlename,' ',lastname) personname, cast(occupationid as nvarchar) as occupation,\n",
    "\n",
    "        concat(pd.primaryAddressLine1,' | ',pd.primaryLocality) as address,primaryPinCode as person_Pincode , pd.nationality , pd.telephoneNumber as telephone, pd.mobileNumber as mobile, email, Report_Type,relationTypeId from [FINCORE_BRIDGE_DB].[FINCORE_BRIDGE].[fingate_PersonDetail] (nolock) pd \n",
    "        inner join [Fincore_Bridge_DB].[FINCORE_BRIDGE].[Cps_Report_Details]r on r.Report_Id =pd.reportid AND REPORT_TYPE = 'NTR' \n",
    "        AND LEFT(FIU_BATCH_ID,6)=202503 and r.report_id in {bracket}\n",
    "        inner join [FINCORE_BRIDGE_DB].[FINCORE_BRIDGE].[fingate_AccountPerson] ap on ap.UCIC=pd.UCIC and ap.reportid=pd.reportId \n",
    "        and r.Fingate_Migrated_Data = 'N'  and r.report_status ='Pass' and r.Is_Active_Flag=1 \n",
    "    union\n",
    "        select Re_ID,ed.batchid,Fiu_Batch_Id,left(Fiu_Batch_Id,6) yr_mon,ed.reportid, r.REPORT_id,ed.ucic, trim(accountno) as accountnumber,PAN, ed.name as personname ,linesOfBusiness as occupation, \n",
    "        concat(ed.addressLine1,' | ',ed.locality) as address, pinCode as person_Pincode ,ed.regCountry as nationality, telephoneNumber, mobileNumber, emailId,REPORT_TYPE,relationTypeId\n",
    "        from [FINCORE_BRIDGE_DB].[FINCORE_BRIDGE].[fingate_EntityDetail] (nolock) ed \n",
    "        inner join [Fincore_Bridge_DB].[FINCORE_BRIDGE].[Cps_Report_Details]r on r.Report_Id =ed.reportid AND REPORT_TYPE = 'NTR'\n",
    "        AND LEFT(FIU_BATCH_ID,6)=202503 and r.report_id in {bracket}\n",
    "    \n",
    "        inner join [FINCORE_BRIDGE_DB].[FINCORE_BRIDGE].[fingate_AccountPerson] ap on ap.UCIC=ed.UCIC and ap.reportid=ed.reportId \n",
    "        and r.Fingate_Migrated_Data = 'N'  and r.report_status ='Pass' and r.Is_Active_Flag=1 ),\n",
    "        cte2 as ( select reportid, ucic  from( select reportid, ucic, count(distinct pan) pan_count from cte1 group by reportid, ucic)z where pan_count =1),\n",
    "        cte3 as (select * from cte1 where concat(reportid, ucic) in (select concat(reportid, ucic) from cte2))\n",
    "        ,\n",
    "\n",
    "        cte_trans as (select distinct relationTypeId,re_id,t.[reportid],credit as [credit_amount] ,debit as [debit_amount],concat('ID-',cast(t.[Fiu_Batch_Id] as varchar)) batchid,p.Report_Id as reportsernum,personname,mobile, p.pan, t.account as accountnumber, address as commaddress, report_Type as reporttype, \n",
    "        --credit_amount credit,debit_amount debit, \n",
    "\t\temail,'NA' AS groundsofsusp,'NA' AS sourceofalert\n",
    "        from [Fincore_Bridge_DB].[FINCORE_BRIDGE].[Combined_Transaction] t\n",
    "        inner join cte3 p on p.reportid=t.reportid and concat('A-',p.accountnumber)=t.account AND LEFT(t.fiu_Batch_id,6)=202503\n",
    "\t\t)\n",
    "\n",
    "    select distinct  p.batchid, reportsernum,personname,concat('M-',mobile)mobile, p.pan, p.accountnumber,  commaddress, p.reporttype, \n",
    "    trim(upper(re.name)) as entityname, \n",
    "    coalesce([oldREId],[newREId]) as fiureid,\n",
    "    credit_amount credit,debit_amount debit, email,'NA' AS groundsofsusp,'NA' AS sourceofalert,\n",
    "    addressline1 as branchaddress , ah.title as relationTypeId,branch_state\n",
    "    from  cte_trans p\n",
    "    --inner join cte_trans t on p.reportid=t.reportid and p.accountnumber=t.accountnumber \n",
    "    inner join  [Fincore_Bridge_DB].[FINCORE_BRIDGE].[fingate_AccountDetail] ad on ad.reportid=p.reportId and concat('A-',ad.accountnumber) =p.accountnumber \n",
    "    inner join [DATAHUB_DB].[FIUMetaHub].[finnet_ReportingEntity] re (nolock) on p.[Re_Id] = re.id_\n",
    "    left join [DATAHUB_DB].[FIUMetaHub].[finnet_AcHolderType] ah on ah.id_= p.relationTypeId\n",
    "    left join [DATAHUB_DB].[FIUMetaHub].[finnet_ReBranch] reb on ad.branchCode=reb.branchId and reb.reid=p.Re_Id\n",
    "\tLEFT JOIN [SAL_DB].[dbo].[state_meta_final] (NOLOCK) sm  ON sm.[parentId] = reb.id_\n",
    "    left join [DATAHUB_DB].[FIUMetaHub].[finnet_Address] adr on reb.id_ = adr.parentid \n",
    "    where parentclass='Rebranch' and branch_state='JAMMU AND KASHMIR'     '''\n",
    "    #print(query)\n",
    "    #break\n",
    "    engine_=sqlalchemy.create_engine('mssql+pyodbc://SAL_User01:%s@172.16.22.25:1433/FINCORE_BRIDGE_DB?driver=ODBC+Driver+17+for+SQL+Server' % quote('Sal@123'))\n",
    "    path_to_file = ''\n",
    "    file_name = 'filename'\n",
    "    query_run(query,engine_,path_to_file,file_name)"
   ]
  },
  {
   "cell_type": "code",
   "execution_count": null,
   "id": "84ed71f7-5fdd-420a-a446-b2b32d557ca6",
   "metadata": {},
   "outputs": [],
   "source": []
  },
  {
   "cell_type": "code",
   "execution_count": null,
   "id": "0a502c0b-ab97-4465-92b0-25015009af72",
   "metadata": {},
   "outputs": [],
   "source": []
  }
 ],
 "metadata": {
  "kernelspec": {
   "display_name": "Python 3 (ipykernel)",
   "language": "python",
   "name": "python3"
  },
  "language_info": {
   "codemirror_mode": {
    "name": "ipython",
    "version": 3
   },
   "file_extension": ".py",
   "mimetype": "text/x-python",
   "name": "python",
   "nbconvert_exporter": "python",
   "pygments_lexer": "ipython3",
   "version": "3.11.5"
  }
 },
 "nbformat": 4,
 "nbformat_minor": 5
}
